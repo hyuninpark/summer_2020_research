{
  "nbformat": 4,
  "nbformat_minor": 0,
  "metadata": {
    "kernelspec": {
      "display_name": "Python 3",
      "language": "python",
      "name": "python3"
    },
    "language_info": {
      "codemirror_mode": {
        "name": "ipython",
        "version": 3
      },
      "file_extension": ".py",
      "mimetype": "text/x-python",
      "name": "python",
      "nbconvert_exporter": "python",
      "pygments_lexer": "ipython3",
      "version": "3.7.4"
    },
    "colab": {
      "name": "rl_evaluation.ipynb",
      "provenance": [],
      "collapsed_sections": []
    },
    "widgets": {
      "application/vnd.jupyter.widget-state+json": {
        "2cac2e5dfd074f45a9e9cbe2500f9260": {
          "model_module": "@jupyter-widgets/controls",
          "model_name": "HBoxModel",
          "state": {
            "_view_name": "HBoxView",
            "_dom_classes": [],
            "_model_name": "HBoxModel",
            "_view_module": "@jupyter-widgets/controls",
            "_model_module_version": "1.5.0",
            "_view_count": null,
            "_view_module_version": "1.5.0",
            "box_style": "",
            "layout": "IPY_MODEL_f5dd093861f44253ad33c9c3f70754eb",
            "_model_module": "@jupyter-widgets/controls",
            "children": [
              "IPY_MODEL_30d625e609bb412086474d9373e291ac",
              "IPY_MODEL_d0c31ea73eac4894b01fe6cb67a5c042"
            ]
          }
        },
        "f5dd093861f44253ad33c9c3f70754eb": {
          "model_module": "@jupyter-widgets/base",
          "model_name": "LayoutModel",
          "state": {
            "_view_name": "LayoutView",
            "grid_template_rows": null,
            "right": null,
            "justify_content": null,
            "_view_module": "@jupyter-widgets/base",
            "overflow": null,
            "_model_module_version": "1.2.0",
            "_view_count": null,
            "flex_flow": null,
            "width": null,
            "min_width": null,
            "border": null,
            "align_items": null,
            "bottom": null,
            "_model_module": "@jupyter-widgets/base",
            "top": null,
            "grid_column": null,
            "overflow_y": null,
            "overflow_x": null,
            "grid_auto_flow": null,
            "grid_area": null,
            "grid_template_columns": null,
            "flex": null,
            "_model_name": "LayoutModel",
            "justify_items": null,
            "grid_row": null,
            "max_height": null,
            "align_content": null,
            "visibility": null,
            "align_self": null,
            "height": null,
            "min_height": null,
            "padding": null,
            "grid_auto_rows": null,
            "grid_gap": null,
            "max_width": null,
            "order": null,
            "_view_module_version": "1.2.0",
            "grid_template_areas": null,
            "object_position": null,
            "object_fit": null,
            "grid_auto_columns": null,
            "margin": null,
            "display": null,
            "left": null
          }
        },
        "30d625e609bb412086474d9373e291ac": {
          "model_module": "@jupyter-widgets/controls",
          "model_name": "FloatProgressModel",
          "state": {
            "_view_name": "ProgressView",
            "style": "IPY_MODEL_b728f9af4f2b4f5fad41d552d94e40a9",
            "_dom_classes": [],
            "description": "100%",
            "_model_name": "FloatProgressModel",
            "bar_style": "success",
            "max": 500000,
            "_view_module": "@jupyter-widgets/controls",
            "_model_module_version": "1.5.0",
            "value": 500000,
            "_view_count": null,
            "_view_module_version": "1.5.0",
            "orientation": "horizontal",
            "min": 0,
            "description_tooltip": null,
            "_model_module": "@jupyter-widgets/controls",
            "layout": "IPY_MODEL_3e6ac41b67594c15a7c65e2a67c21729"
          }
        },
        "d0c31ea73eac4894b01fe6cb67a5c042": {
          "model_module": "@jupyter-widgets/controls",
          "model_name": "HTMLModel",
          "state": {
            "_view_name": "HTMLView",
            "style": "IPY_MODEL_af746cf796b943ada190d706e7b59686",
            "_dom_classes": [],
            "description": "",
            "_model_name": "HTMLModel",
            "placeholder": "​",
            "_view_module": "@jupyter-widgets/controls",
            "_model_module_version": "1.5.0",
            "value": " 500000/500000 [18:14&lt;00:00, 456.97it/s]",
            "_view_count": null,
            "_view_module_version": "1.5.0",
            "description_tooltip": null,
            "_model_module": "@jupyter-widgets/controls",
            "layout": "IPY_MODEL_cd2b43d09a6244a3ab8d72a070634a61"
          }
        },
        "b728f9af4f2b4f5fad41d552d94e40a9": {
          "model_module": "@jupyter-widgets/controls",
          "model_name": "ProgressStyleModel",
          "state": {
            "_view_name": "StyleView",
            "_model_name": "ProgressStyleModel",
            "description_width": "initial",
            "_view_module": "@jupyter-widgets/base",
            "_model_module_version": "1.5.0",
            "_view_count": null,
            "_view_module_version": "1.2.0",
            "bar_color": null,
            "_model_module": "@jupyter-widgets/controls"
          }
        },
        "3e6ac41b67594c15a7c65e2a67c21729": {
          "model_module": "@jupyter-widgets/base",
          "model_name": "LayoutModel",
          "state": {
            "_view_name": "LayoutView",
            "grid_template_rows": null,
            "right": null,
            "justify_content": null,
            "_view_module": "@jupyter-widgets/base",
            "overflow": null,
            "_model_module_version": "1.2.0",
            "_view_count": null,
            "flex_flow": null,
            "width": null,
            "min_width": null,
            "border": null,
            "align_items": null,
            "bottom": null,
            "_model_module": "@jupyter-widgets/base",
            "top": null,
            "grid_column": null,
            "overflow_y": null,
            "overflow_x": null,
            "grid_auto_flow": null,
            "grid_area": null,
            "grid_template_columns": null,
            "flex": null,
            "_model_name": "LayoutModel",
            "justify_items": null,
            "grid_row": null,
            "max_height": null,
            "align_content": null,
            "visibility": null,
            "align_self": null,
            "height": null,
            "min_height": null,
            "padding": null,
            "grid_auto_rows": null,
            "grid_gap": null,
            "max_width": null,
            "order": null,
            "_view_module_version": "1.2.0",
            "grid_template_areas": null,
            "object_position": null,
            "object_fit": null,
            "grid_auto_columns": null,
            "margin": null,
            "display": null,
            "left": null
          }
        },
        "af746cf796b943ada190d706e7b59686": {
          "model_module": "@jupyter-widgets/controls",
          "model_name": "DescriptionStyleModel",
          "state": {
            "_view_name": "StyleView",
            "_model_name": "DescriptionStyleModel",
            "description_width": "",
            "_view_module": "@jupyter-widgets/base",
            "_model_module_version": "1.5.0",
            "_view_count": null,
            "_view_module_version": "1.2.0",
            "_model_module": "@jupyter-widgets/controls"
          }
        },
        "cd2b43d09a6244a3ab8d72a070634a61": {
          "model_module": "@jupyter-widgets/base",
          "model_name": "LayoutModel",
          "state": {
            "_view_name": "LayoutView",
            "grid_template_rows": null,
            "right": null,
            "justify_content": null,
            "_view_module": "@jupyter-widgets/base",
            "overflow": null,
            "_model_module_version": "1.2.0",
            "_view_count": null,
            "flex_flow": null,
            "width": null,
            "min_width": null,
            "border": null,
            "align_items": null,
            "bottom": null,
            "_model_module": "@jupyter-widgets/base",
            "top": null,
            "grid_column": null,
            "overflow_y": null,
            "overflow_x": null,
            "grid_auto_flow": null,
            "grid_area": null,
            "grid_template_columns": null,
            "flex": null,
            "_model_name": "LayoutModel",
            "justify_items": null,
            "grid_row": null,
            "max_height": null,
            "align_content": null,
            "visibility": null,
            "align_self": null,
            "height": null,
            "min_height": null,
            "padding": null,
            "grid_auto_rows": null,
            "grid_gap": null,
            "max_width": null,
            "order": null,
            "_view_module_version": "1.2.0",
            "grid_template_areas": null,
            "object_position": null,
            "object_fit": null,
            "grid_auto_columns": null,
            "margin": null,
            "display": null,
            "left": null
          }
        },
        "650845792d6f48e9b31a1572bd647b39": {
          "model_module": "@jupyter-widgets/controls",
          "model_name": "HBoxModel",
          "state": {
            "_view_name": "HBoxView",
            "_dom_classes": [],
            "_model_name": "HBoxModel",
            "_view_module": "@jupyter-widgets/controls",
            "_model_module_version": "1.5.0",
            "_view_count": null,
            "_view_module_version": "1.5.0",
            "box_style": "",
            "layout": "IPY_MODEL_52eed5cb7e7b4c9abd0d8ca4ae2936c8",
            "_model_module": "@jupyter-widgets/controls",
            "children": [
              "IPY_MODEL_2083ef7e67304a91b88285cc6a90a5ac",
              "IPY_MODEL_d8ab6c1f86d44575919cac0833bbffa8"
            ]
          }
        },
        "52eed5cb7e7b4c9abd0d8ca4ae2936c8": {
          "model_module": "@jupyter-widgets/base",
          "model_name": "LayoutModel",
          "state": {
            "_view_name": "LayoutView",
            "grid_template_rows": null,
            "right": null,
            "justify_content": null,
            "_view_module": "@jupyter-widgets/base",
            "overflow": null,
            "_model_module_version": "1.2.0",
            "_view_count": null,
            "flex_flow": null,
            "width": null,
            "min_width": null,
            "border": null,
            "align_items": null,
            "bottom": null,
            "_model_module": "@jupyter-widgets/base",
            "top": null,
            "grid_column": null,
            "overflow_y": null,
            "overflow_x": null,
            "grid_auto_flow": null,
            "grid_area": null,
            "grid_template_columns": null,
            "flex": null,
            "_model_name": "LayoutModel",
            "justify_items": null,
            "grid_row": null,
            "max_height": null,
            "align_content": null,
            "visibility": null,
            "align_self": null,
            "height": null,
            "min_height": null,
            "padding": null,
            "grid_auto_rows": null,
            "grid_gap": null,
            "max_width": null,
            "order": null,
            "_view_module_version": "1.2.0",
            "grid_template_areas": null,
            "object_position": null,
            "object_fit": null,
            "grid_auto_columns": null,
            "margin": null,
            "display": null,
            "left": null
          }
        },
        "2083ef7e67304a91b88285cc6a90a5ac": {
          "model_module": "@jupyter-widgets/controls",
          "model_name": "FloatProgressModel",
          "state": {
            "_view_name": "ProgressView",
            "style": "IPY_MODEL_393dc065123c41c0a20a27c2d3418975",
            "_dom_classes": [],
            "description": "100%",
            "_model_name": "FloatProgressModel",
            "bar_style": "success",
            "max": 100000,
            "_view_module": "@jupyter-widgets/controls",
            "_model_module_version": "1.5.0",
            "value": 100000,
            "_view_count": null,
            "_view_module_version": "1.5.0",
            "orientation": "horizontal",
            "min": 0,
            "description_tooltip": null,
            "_model_module": "@jupyter-widgets/controls",
            "layout": "IPY_MODEL_caf904f5ba514226b4d41b97f5d9a575"
          }
        },
        "d8ab6c1f86d44575919cac0833bbffa8": {
          "model_module": "@jupyter-widgets/controls",
          "model_name": "HTMLModel",
          "state": {
            "_view_name": "HTMLView",
            "style": "IPY_MODEL_d2fbd315ef0a4c1bbe3c03234e72e59d",
            "_dom_classes": [],
            "description": "",
            "_model_name": "HTMLModel",
            "placeholder": "​",
            "_view_module": "@jupyter-widgets/controls",
            "_model_module_version": "1.5.0",
            "value": " 100000/100000 [09:42&lt;00:00, 171.78it/s]",
            "_view_count": null,
            "_view_module_version": "1.5.0",
            "description_tooltip": null,
            "_model_module": "@jupyter-widgets/controls",
            "layout": "IPY_MODEL_8445751872f944d59426e2c5b67329b7"
          }
        },
        "393dc065123c41c0a20a27c2d3418975": {
          "model_module": "@jupyter-widgets/controls",
          "model_name": "ProgressStyleModel",
          "state": {
            "_view_name": "StyleView",
            "_model_name": "ProgressStyleModel",
            "description_width": "initial",
            "_view_module": "@jupyter-widgets/base",
            "_model_module_version": "1.5.0",
            "_view_count": null,
            "_view_module_version": "1.2.0",
            "bar_color": null,
            "_model_module": "@jupyter-widgets/controls"
          }
        },
        "caf904f5ba514226b4d41b97f5d9a575": {
          "model_module": "@jupyter-widgets/base",
          "model_name": "LayoutModel",
          "state": {
            "_view_name": "LayoutView",
            "grid_template_rows": null,
            "right": null,
            "justify_content": null,
            "_view_module": "@jupyter-widgets/base",
            "overflow": null,
            "_model_module_version": "1.2.0",
            "_view_count": null,
            "flex_flow": null,
            "width": null,
            "min_width": null,
            "border": null,
            "align_items": null,
            "bottom": null,
            "_model_module": "@jupyter-widgets/base",
            "top": null,
            "grid_column": null,
            "overflow_y": null,
            "overflow_x": null,
            "grid_auto_flow": null,
            "grid_area": null,
            "grid_template_columns": null,
            "flex": null,
            "_model_name": "LayoutModel",
            "justify_items": null,
            "grid_row": null,
            "max_height": null,
            "align_content": null,
            "visibility": null,
            "align_self": null,
            "height": null,
            "min_height": null,
            "padding": null,
            "grid_auto_rows": null,
            "grid_gap": null,
            "max_width": null,
            "order": null,
            "_view_module_version": "1.2.0",
            "grid_template_areas": null,
            "object_position": null,
            "object_fit": null,
            "grid_auto_columns": null,
            "margin": null,
            "display": null,
            "left": null
          }
        },
        "d2fbd315ef0a4c1bbe3c03234e72e59d": {
          "model_module": "@jupyter-widgets/controls",
          "model_name": "DescriptionStyleModel",
          "state": {
            "_view_name": "StyleView",
            "_model_name": "DescriptionStyleModel",
            "description_width": "",
            "_view_module": "@jupyter-widgets/base",
            "_model_module_version": "1.5.0",
            "_view_count": null,
            "_view_module_version": "1.2.0",
            "_model_module": "@jupyter-widgets/controls"
          }
        },
        "8445751872f944d59426e2c5b67329b7": {
          "model_module": "@jupyter-widgets/base",
          "model_name": "LayoutModel",
          "state": {
            "_view_name": "LayoutView",
            "grid_template_rows": null,
            "right": null,
            "justify_content": null,
            "_view_module": "@jupyter-widgets/base",
            "overflow": null,
            "_model_module_version": "1.2.0",
            "_view_count": null,
            "flex_flow": null,
            "width": null,
            "min_width": null,
            "border": null,
            "align_items": null,
            "bottom": null,
            "_model_module": "@jupyter-widgets/base",
            "top": null,
            "grid_column": null,
            "overflow_y": null,
            "overflow_x": null,
            "grid_auto_flow": null,
            "grid_area": null,
            "grid_template_columns": null,
            "flex": null,
            "_model_name": "LayoutModel",
            "justify_items": null,
            "grid_row": null,
            "max_height": null,
            "align_content": null,
            "visibility": null,
            "align_self": null,
            "height": null,
            "min_height": null,
            "padding": null,
            "grid_auto_rows": null,
            "grid_gap": null,
            "max_width": null,
            "order": null,
            "_view_module_version": "1.2.0",
            "grid_template_areas": null,
            "object_position": null,
            "object_fit": null,
            "grid_auto_columns": null,
            "margin": null,
            "display": null,
            "left": null
          }
        }
      }
    }
  },
  "cells": [
    {
      "cell_type": "code",
      "metadata": {
        "id": "_OroUzNjJvbP",
        "colab_type": "code",
        "colab": {
          "base_uri": "https://localhost:8080/",
          "height": 122
        },
        "outputId": "73a47053-e1f9-4a57-8e2a-26bfd44b4c4c"
      },
      "source": [
        "import os, sys\n",
        "from google.colab import drive\n",
        "drive.mount('/content/drive', force_remount=True)"
      ],
      "execution_count": null,
      "outputs": [
        {
          "output_type": "stream",
          "text": [
            "Go to this URL in a browser: https://accounts.google.com/o/oauth2/auth?client_id=947318989803-6bn6qk8qdgf4n4g3pfee6491hc0brc4i.apps.googleusercontent.com&redirect_uri=urn%3aietf%3awg%3aoauth%3a2.0%3aoob&response_type=code&scope=email%20https%3a%2f%2fwww.googleapis.com%2fauth%2fdocs.test%20https%3a%2f%2fwww.googleapis.com%2fauth%2fdrive%20https%3a%2f%2fwww.googleapis.com%2fauth%2fdrive.photos.readonly%20https%3a%2f%2fwww.googleapis.com%2fauth%2fpeopleapi.readonly\n",
            "\n",
            "Enter your authorization code:\n",
            "··········\n",
            "Mounted at /content/drive\n"
          ],
          "name": "stdout"
        }
      ]
    },
    {
      "cell_type": "code",
      "metadata": {
        "id": "knRNCTg1J_p-",
        "colab_type": "code",
        "colab": {}
      },
      "source": [
        "nb_path = '/content/notebooks'\n",
        "os.symlink('/content/drive/My Drive/Colab Notebooks', nb_path)\n",
        "sys.path.insert(0,nb_path)"
      ],
      "execution_count": null,
      "outputs": []
    },
    {
      "cell_type": "code",
      "metadata": {
        "id": "JW4JqPPWt5rX",
        "colab_type": "code",
        "colab": {}
      },
      "source": [
        "from simulation import run_simulation\n",
        "from vowpalwabbit import pyvw\n",
        "import numpy as np\n",
        "from policies import *\n",
        "from environment import Servers"
      ],
      "execution_count": null,
      "outputs": []
    },
    {
      "cell_type": "code",
      "metadata": {
        "id": "dwZ7lFIRJuwD",
        "colab_type": "code",
        "colab": {}
      },
      "source": [
        "%%capture\n",
        "from tqdm.tqdm_notebook import tqdm"
      ],
      "execution_count": null,
      "outputs": []
    },
    {
      "cell_type": "code",
      "metadata": {
        "id": "eQI1IAY6t5re",
        "colab_type": "code",
        "colab": {}
      },
      "source": [
        "# Initialize basic variables\n",
        "num_requests = 5#int(input(\"num_requests: \"))\n",
        "num_servers = 3#int(input(\"num_servers: \"))\n",
        "\n",
        "# Initialize policies\n",
        "behavior_policy = ('UniRan', UniRan(num_servers))\n",
        "target_policy1 = ('LeastLoad_0.3', LeastLoad(num_servers, epsilon=0.3))\n",
        "target_policy2 = ('LeastLoad_0', LeastLoad(num_servers, epsilon=0))\n",
        "target_policy3 = ('EpsilonGreedy', EpsilonGreedy(num_servers, epsilon=0.3))\n",
        "target_policy4 = ('UCB1', UCB1(num_servers))\n",
        "\n",
        "# behavior_policy = ('EpsilonGreedy', EpsilonGreedy(num_servers, epsilon=0.3))\n",
        "# target_policy1 = ('LeastLoad_0.3', LeastLoad(num_servers, epsilon=0.3))\n",
        "# target_policy2 = ('LeastLoad_0', LeastLoad(num_servers, epsilon=0))\n",
        "# target_policy3 = ('UniRan', UniRan(num_servers))\n",
        "# target_policy4 = ('UCB1', UCB1(num_servers))\n",
        "\n",
        "\n",
        "target_policies = [target_policy1, target_policy2, target_policy3, target_policy4]\n",
        "num_target_policies = len(target_policies)\n",
        "\n",
        "policies = [target_policy1, target_policy2, target_policy3, target_policy4, behavior_policy]\n",
        "num_policies = 1 + num_target_policies\n",
        "\n",
        "target_policy_names = [policy[0] for policy in policies if policy != policies[-1]]\n",
        "\n",
        "# Initialize environment (servers)\n",
        "servers = Servers(num_policies=num_policies, num_servers=num_servers)\n"
      ],
      "execution_count": null,
      "outputs": []
    },
    {
      "cell_type": "code",
      "metadata": {
        "id": "W96XKV85iu52",
        "colab_type": "code",
        "colab": {}
      },
      "source": [
        "import pickle"
      ],
      "execution_count": null,
      "outputs": []
    },
    {
      "cell_type": "code",
      "metadata": {
        "id": "Jgz0grKLEU9p",
        "colab_type": "code",
        "colab": {
          "base_uri": "https://localhost:8080/",
          "height": 137,
          "referenced_widgets": [
            "2cac2e5dfd074f45a9e9cbe2500f9260",
            "f5dd093861f44253ad33c9c3f70754eb",
            "30d625e609bb412086474d9373e291ac",
            "d0c31ea73eac4894b01fe6cb67a5c042",
            "b728f9af4f2b4f5fad41d552d94e40a9",
            "3e6ac41b67594c15a7c65e2a67c21729",
            "af746cf796b943ada190d706e7b59686",
            "cd2b43d09a6244a3ab8d72a070634a61"
          ]
        },
        "outputId": "8b648bea-b2de-46c9-9d7b-193460165a69"
      },
      "source": [
        "trace_lst = []\n",
        "latency_lst = []\n",
        "for _ in tqdm(range(5*10**5)):\n",
        "    total_latency_for_each_policy, trace = \\\n",
        "                run_simulation(policies=policies, num_requests=num_requests, servers=servers)\n",
        "    trace_lst.append(trace)\n",
        "    latency_lst.append(total_latency_for_each_policy)\n",
        "#with open('trace1.p', 'wb') as fp:\n",
        "    #pickle.dump(trace_lst, fp)           \n",
        "#with open('latency1.p', 'wb') as fp:\n",
        "    #pickle.dump(latency_lst, fp)  \n"
      ],
      "execution_count": null,
      "outputs": [
        {
          "output_type": "stream",
          "text": [
            "/usr/local/lib/python3.6/dist-packages/ipykernel_launcher.py:3: TqdmDeprecationWarning: This function will be removed in tqdm==5.0.0\n",
            "Please use `tqdm.notebook.tqdm` instead of `tqdm.tqdm_notebook`\n",
            "  This is separate from the ipykernel package so we can avoid doing imports until\n"
          ],
          "name": "stderr"
        },
        {
          "output_type": "display_data",
          "data": {
            "application/vnd.jupyter.widget-view+json": {
              "model_id": "2cac2e5dfd074f45a9e9cbe2500f9260",
              "version_minor": 0,
              "version_major": 2
            },
            "text/plain": [
              "HBox(children=(FloatProgress(value=0.0, max=500000.0), HTML(value='')))"
            ]
          },
          "metadata": {
            "tags": []
          }
        },
        {
          "output_type": "stream",
          "text": [
            "\n"
          ],
          "name": "stdout"
        }
      ]
    },
    {
      "cell_type": "code",
      "metadata": {
        "id": "Z8T3LimYQ9_l",
        "colab_type": "code",
        "colab": {}
      },
      "source": [
        "trace=np.array(trace_lst)\n",
        "latency=np.array(latency_lst)"
      ],
      "execution_count": null,
      "outputs": []
    },
    {
      "cell_type": "code",
      "metadata": {
        "id": "j3WVlk3cj81L",
        "colab_type": "code",
        "colab": {}
      },
      "source": [
        "class ActionValueModel:\n",
        "    r\"\"\"\n",
        "    ActionValueModel is a class that represents\n",
        "    an action value model (Q_\\pi) for a fixed (stationary) policy \\pi\n",
        "    in reinforcement learning (RL) framework.\n",
        "\n",
        "    You can have any action value model (DM), but it should subclass\n",
        "    this abstract class.\n",
        "    \"\"\"\n",
        "\n",
        "    def __init__(self, horizon, num_actions, policy):\n",
        "        \"\"\"\n",
        "        Params:\n",
        "            horizon: horizon of the environment (We use a fixed horizon here)\n",
        "            num_actions: number of actions (we are not using continus actions; action index starts from 0)\n",
        "            policy: the policy that we want to learn the Q value of\n",
        "        \"\"\"\n",
        "\n",
        "        self.horizon = horizon\n",
        "        self.num_actions = num_actions\n",
        "        self.policy = policy\n",
        "\n",
        "    def get_Q(self, index, state, action):\n",
        "        \"\"\"\n",
        "        Return Q_pi(state, action) at the given index\n",
        "\n",
        "        Params:\n",
        "            index: the step of Q_pi we want to get (thus, index ranges from 0 to self.horizon - 1)\n",
        "            state: the state in Q_pi(state, action)\n",
        "            action: the action in Q_pi(state, action)\n",
        "        \"\"\"\n",
        "\n",
        "        raise NotImplementedError\n",
        "\n",
        "    def get_V(self, index, sample, new_p):\n",
        "        \"\"\"\n",
        "        Return V(state)\n",
        "\n",
        "        Params:\n",
        "            index: the step of Q_pi we want to get (thus, index ranges from 0 to self.horizon - 1)\n",
        "            sample: the sample of the given index from a trace.\n",
        "                    sample is a list (or tuple) of [state, action, reward, behavior_probabilities]\n",
        "        \"\"\"\n",
        "\n",
        "        if index > self.horizon - 1:\n",
        "            return 0\n",
        "\n",
        "        state = sample[0]\n",
        "        V_estimate = 0\n",
        "        #for action_index, new_prob in enumerate(self.policy.choose_action(context=state[0],\n",
        "                                                                          #return_prob=True,\n",
        "                                                                          #behavior_policy=False,\n",
        "                                                                          #chosen_action=sample[1])):\n",
        "            #V_estimate += new_prob * self.get_Q(index, state, action_index)\n",
        "        for i, p in enumerate(new_p):\n",
        "            V_estimate += p*self.get_Q(index, state, i)\n",
        "\n",
        "        return V_estimate\n",
        "\n",
        "    def update_Q(self, index, sample, next_sample):\n",
        "        \"\"\"\n",
        "        Update Q_\\pi at the given index, with the given next state.\n",
        "\n",
        "        Params:\n",
        "            index: the step of Q_pi we want to update (thus, index ranges from 0 to self.horizon - 1)\n",
        "            sample: the sample of the given index from a trace.\n",
        "                    sample is a list (or tuple) of [state, action, reward, behavior_probabilities]\n",
        "            next_sample: the next sample observed after the given sample in the trace.\n",
        "        \"\"\"\n",
        "\n",
        "        raise NotImplementedError"
      ],
      "execution_count": 134,
      "outputs": []
    },
    {
      "cell_type": "code",
      "metadata": {
        "id": "m_KvBqBekFrG",
        "colab_type": "code",
        "colab": {}
      },
      "source": [
        "class VWActionValueModel(ActionValueModel):\n",
        "    r\"\"\"\n",
        "    An ActionValueModel using VowpalWabbit (VW)\n",
        "\n",
        "    the given VW format can be changed as you want.\n",
        "    Think about if the given VW format is correct! \n",
        "    \"\"\"\n",
        "\n",
        "    def __init__(self, horizon, num_actions, policy, default_model=\"--power_t 0.0 -q la --quiet\"):\n",
        "        \"\"\"\n",
        "        Initialize variables to store basic information of MDP\n",
        "        and every Q model needed for each step.\n",
        "\n",
        "        Params:\n",
        "            default_model: a default VW model to learn Q. You can try different settings to get the best model.\n",
        "        \"\"\"\n",
        "        super().__init__(horizon, num_actions, policy)\n",
        "\n",
        "        # We assume that each step is indexed from 0 to H (horizon) - 1\n",
        "        self.models = [pyvw.vw(default_model) for _ in range(self.horizon)]\n",
        "\n",
        "    def vw_format(self, state_server_load, action, reward=None):\n",
        "        \"\"\"\n",
        "        Convert a given sample to a VW example.\n",
        "        The current format of state only includes server load. Change it if needed.\n",
        "\n",
        "        Params:\n",
        "            state_server_load: the state in the given sample.\n",
        "            action: the action chosen by the logging policy in the given sample\n",
        "            reward: the reward revealed by the chosen action.\n",
        "                    If the function vw_format is used to predict Q value,\n",
        "                    reward should be None.\n",
        "        \"\"\"\n",
        "\n",
        "        vw_example = \"\"\n",
        "\n",
        "        if reward is not None:\n",
        "            vw_example += f\"{reward} \"\n",
        "\n",
        "        # Add server load (l stands for load)\n",
        "        vw_example += \"|l\"\n",
        "\n",
        "        for server_index in range(self.num_actions):\n",
        "            vw_example += f\" load{server_index}:{state_server_load[server_index]}\"\n",
        "\n",
        "        # Add the chosen action\n",
        "        vw_example += f\" |a server{action}\"\n",
        "\n",
        "        return vw_example\n",
        "\n",
        "    def get_Q(self, index, state, action):\n",
        "        \"\"\"\n",
        "        Return Q_pi(state, action) at the given index\n",
        "\n",
        "        Params:\n",
        "            index: the step of Q_pi we want to get (thus, index ranges from 0 to self.horizon - 1)\n",
        "            state: the state in Q_pi(state, action).\n",
        "            action: the action in Q_pi(state, action)\n",
        "        \"\"\"\n",
        "        if index > self.horizon - 1:\n",
        "            return 0\n",
        "\n",
        "        model = self.models[index]\n",
        "        sample_in_vw_format = self.vw_format(state_server_load=state[0],\n",
        "                                             action=action)\n",
        "\n",
        "        return model.predict(sample_in_vw_format)\n",
        "\n",
        "    def update_Q(self, index, sample, next_sample=None, next_p=None):\n",
        "        \"\"\"\n",
        "        Update Q_\\pi at the given index, with the given next state.\n",
        "\n",
        "        Params:\n",
        "            index: the step of Q_pi we want to update (thus, index ranges from 0 to self.horizon - 1)\n",
        "            sample: the sample of the given index from a trace.\n",
        "                    sample is a list (or tuple) of [state, action, reward, behavior_probabilities]\n",
        "            next_sample: the next sample observed after the given sample in the trace.\n",
        "        \"\"\"\n",
        "        next_state_V_estimate = self.get_V(index + 1, next_sample, next_p)\n",
        "        sample_in_vw_format = self.vw_format(state_server_load=sample[0][0],\n",
        "                                             action=sample[1],\n",
        "                                             reward=sample[2] + next_state_V_estimate)\n",
        "\n",
        "        model = self.models[index]\n",
        "        model.learn(sample_in_vw_format)"
      ],
      "execution_count": 149,
      "outputs": []
    },
    {
      "cell_type": "code",
      "metadata": {
        "id": "In1HKRM0sROb",
        "colab_type": "code",
        "colab": {}
      },
      "source": [
        "class DR(VWActionValueModel):\n",
        "    def __init__(self, new_policy):\n",
        "        self.policy = new_policy\n",
        "        self.horizon = num_requests\n",
        "        super().__init__(self.horizon, num_servers, new_policy)\n",
        "        self.estimates = list()\n",
        "\n",
        "    def get_estimate(self, traj):\n",
        "        \"\"\"\n",
        "        Append the DR estimate of a single sample to self.estimates.\n",
        "        You should implement this function\n",
        "        \"\"\"\n",
        "        rho_t=1\n",
        "        rho_t_1=1\n",
        "        estimate=0\n",
        "        self.policy.reset()\n",
        "        for i, sample in enumerate(traj):\n",
        "            state, action, r, old_p = sample\n",
        "            server_load, lst_rewards = state\n",
        "            for a_, r_ in lst_rewards:\n",
        "                self.policy.update(a_, r_)\n",
        "            new_p = self.policy.choose_action(context=server_load,\n",
        "                                         return_prob=True,\n",
        "                                          behavior_policy=False,\n",
        "                                          chosen_action=action)\n",
        "            rho_t *= new_p[action]/old_p[action]\n",
        "            estimate += rho_t*r - (rho_t*self.get_Q(i, state, action)\n",
        "                                  -rho_t_1*self.get_V(i, sample, new_p))\n",
        "            rho_t_1 = rho_t\n",
        "        \n",
        "        self.estimates.append(estimate)\n",
        "\n",
        "        self.policy.reset()\n",
        "        # Update policy at t=0\n",
        "        new_p = self.policy.choose_action(context=traj[0][0][0],\n",
        "                                         return_prob=True,\n",
        "                                          behavior_policy=True,\n",
        "                                          chosen_action=traj[0][1])\n",
        "        for a_, r_ in traj[0][0][1]:\n",
        "            self.policy.update(a_, r_)\n",
        "\n",
        "        for i in range(self.horizon):\n",
        "            if i == self.horizon-1:\n",
        "                self.update_Q(i, traj[i])\n",
        "            else:\n",
        "              # Policy has to be updated at t=i+1 before updating Q (to get next V)\n",
        "                for a_, r_ in traj[i+1][0][1]:\n",
        "                    self.policy.update(a_, r_)\n",
        "                next_p = self.policy.choose_action(context=traj[i+1][0][0],\n",
        "                                         return_prob=True,\n",
        "                                          behavior_policy=False,\n",
        "                                          chosen_action=traj[i+1][1])\n",
        "                self.update_Q(i, traj[i], traj[i+1], next_p)\n",
        "\n",
        "    def evaluation(self, num_samples):\n",
        "        \"\"\"\n",
        "        Get the mean of num_samples number of DR estimates\n",
        "        \"\"\"\n",
        "        return np.mean(self.estimates[:num_samples])\n",
        "\n",
        "    def bootstrap(self, num_samples, bootstrap_num, true_performance):\n",
        "        bootstrap_estimates = [self.evaluation(num_samples)]\n",
        "        \n",
        "        new_list = self.estimates[:num_samples]\n",
        "\n",
        "        for _ in range(1, bootstrap_num):\n",
        "            bootstrap_list = np.random.choice(new_list, size=num_samples)\n",
        "            bootstrap_estimates.append(np.mean(bootstrap_list))\n",
        "\n",
        "        errors_list = [abs(true_performance - estimate) / -true_performance for estimate in bootstrap_estimates]\n",
        "\n",
        "        return (np.mean(errors_list)), np.std(errors_list)\n",
        "    \n"
      ],
      "execution_count": 172,
      "outputs": []
    },
    {
      "cell_type": "code",
      "metadata": {
        "id": "Cz0_mwpv_rMF",
        "colab_type": "code",
        "colab": {}
      },
      "source": [
        "class IS():\n",
        "    def __init__(self, new_policy):\n",
        "        self.estimates = list()\n",
        "        self.policy = new_policy\n",
        "        self.horizon = num_requests\n",
        "    \n",
        "    def get_estimate(self, traj):\n",
        "        rho_t=1\n",
        "        estimate=0\n",
        "        self.policy.reset()\n",
        "        for i, sample in enumerate(traj):\n",
        "            state, action, r, old_p = sample\n",
        "            server_load, lst_rewards = state\n",
        "            for a_, r_ in lst_rewards:\n",
        "                self.policy.update(a_, r_)\n",
        "            new_p = self.policy.choose_action(context=server_load,\n",
        "                                         return_prob=True,\n",
        "                                          behavior_policy=False,\n",
        "                                          chosen_action=action)\n",
        "            rho_t *= new_p[action]/old_p[action]\n",
        "            estimate += rho_t*r\n",
        "        \n",
        "        self.estimates.append(estimate)\n",
        "\n",
        "    def evaluation(self, num_samples):\n",
        "        return np.mean(self.estimates[:num_samples])\n",
        "\n",
        "    def bootstrap(self, num_samples, bootstrap_num, true_performance):\n",
        "        bootstrap_estimates = [self.evaluation(num_samples)]\n",
        "        \n",
        "        new_list = self.estimates[:num_samples]\n",
        "\n",
        "        for _ in range(1, bootstrap_num):\n",
        "            bootstrap_list = np.random.choice(new_list, size=num_samples)\n",
        "            bootstrap_estimates.append(np.mean(bootstrap_list))\n",
        "\n",
        "        errors_list = [abs(true_performance - estimate) / -true_performance for estimate in bootstrap_estimates]\n",
        "\n",
        "        return (np.mean(errors_list)), np.std(errors_list)\n",
        "    "
      ],
      "execution_count": 173,
      "outputs": []
    },
    {
      "cell_type": "code",
      "metadata": {
        "id": "QRIO5T8S677P",
        "colab_type": "code",
        "colab": {
          "base_uri": "https://localhost:8080/",
          "height": 117,
          "referenced_widgets": [
            "650845792d6f48e9b31a1572bd647b39",
            "52eed5cb7e7b4c9abd0d8ca4ae2936c8",
            "2083ef7e67304a91b88285cc6a90a5ac",
            "d8ab6c1f86d44575919cac0833bbffa8",
            "393dc065123c41c0a20a27c2d3418975",
            "caf904f5ba514226b4d41b97f5d9a575",
            "d2fbd315ef0a4c1bbe3c03234e72e59d",
            "8445751872f944d59426e2c5b67329b7"
          ]
        },
        "outputId": "fd635c19-30cf-466b-b9b5-1c8f5477fb8f"
      },
      "source": [
        "num_samples = trace.shape[0]\n",
        "dr_estimator1 = DR(target_policy1[1])\n",
        "dr_estimator2 = DR(target_policy2[1])\n",
        "dr_estimator3 = DR(target_policy3[1])\n",
        "dr_estimator4 = DR(target_policy4[1])\n",
        "is_estimator1 = IS(target_policy1[1])\n",
        "is_estimator2 = IS(target_policy2[1])\n",
        "is_estimator3 = IS(target_policy3[1])\n",
        "is_estimator4 = IS(target_policy4[1])\n",
        "\n",
        "for sample_index in tqdm(range(10**5)):\n",
        "    is_estimator1.get_estimate(trace[sample_index])\n",
        "    is_estimator2.get_estimate(trace[sample_index])\n",
        "    is_estimator3.get_estimate(trace[sample_index])\n",
        "    is_estimator4.get_estimate(trace[sample_index])\n",
        "    dr_estimator1.get_estimate(trace[sample_index])\n",
        "    dr_estimator2.get_estimate(trace[sample_index])\n",
        "    dr_estimator3.get_estimate(trace[sample_index])\n",
        "    dr_estimator4.get_estimate(trace[sample_index])"
      ],
      "execution_count": 174,
      "outputs": [
        {
          "output_type": "stream",
          "text": [
            "/usr/local/lib/python3.6/dist-packages/ipykernel_launcher.py:11: TqdmDeprecationWarning: This function will be removed in tqdm==5.0.0\n",
            "Please use `tqdm.notebook.tqdm` instead of `tqdm.tqdm_notebook`\n",
            "  # This is added back by InteractiveShellApp.init_path()\n"
          ],
          "name": "stderr"
        },
        {
          "output_type": "display_data",
          "data": {
            "application/vnd.jupyter.widget-view+json": {
              "model_id": "650845792d6f48e9b31a1572bd647b39",
              "version_minor": 0,
              "version_major": 2
            },
            "text/plain": [
              "HBox(children=(FloatProgress(value=0.0, max=100000.0), HTML(value='')))"
            ]
          },
          "metadata": {
            "tags": []
          }
        },
        {
          "output_type": "stream",
          "text": [
            "\n"
          ],
          "name": "stdout"
        }
      ]
    },
    {
      "cell_type": "code",
      "metadata": {
        "id": "PJxNYwgkK_PW",
        "colab_type": "code",
        "colab": {}
      },
      "source": [
        "true_values = np.mean(latency, axis=0)\n",
        "\n",
        "# List the error of each estimator\n",
        "dr_estimators = [dr_estimator1, dr_estimator2, dr_estimator3, dr_estimator4]\n",
        "is_estimators = [is_estimator1, is_estimator2, is_estimator3, is_estimator4]\n",
        "bootstrap_num = 100\n",
        "\n",
        "dr_means = [np.zeros(5), np.zeros(5), np.zeros(5), np.zeros(5)]\n",
        "is_means = [np.zeros(5), np.zeros(5), np.zeros(5), np.zeros(5)]\n",
        "dr_stds = [np.zeros(5), np.zeros(5), np.zeros(5), np.zeros(5)]\n",
        "is_stds = [np.zeros(5), np.zeros(5), np.zeros(5), np.zeros(5)]\n",
        "\n",
        "for j in range(4):\n",
        "    for i in range(1, 6):\n",
        "        num_samples = int(10**i)\n",
        "        mean, std = dr_estimators[j].bootstrap(num_samples, bootstrap_num, true_values[j])\n",
        "        dr_means[j][i-1] = mean\n",
        "        dr_stds[j][i-1] = std\n",
        "        mean, std = is_estimators[j].bootstrap(num_samples, bootstrap_num, true_values[j])\n",
        "        is_means[j][i-1] = mean\n",
        "        is_stds[j][i-1] = std\n"
      ],
      "execution_count": 177,
      "outputs": []
    },
    {
      "cell_type": "code",
      "metadata": {
        "id": "CQgKG36ZMBoI",
        "colab_type": "code",
        "colab": {
          "base_uri": "https://localhost:8080/",
          "height": 901
        },
        "outputId": "6582e331-a450-4599-ac5d-8c3b1838221d"
      },
      "source": [
        "for j in range(4):\n",
        "    print('Policy ', j+1)\n",
        "    print('IS')\n",
        "    for i in range(5):\n",
        "        print(f\"(num_samples: {10**(i+1)}): (mean: {is_means[j][i]} / std: {is_stds[j][i]})\")\n",
        "    print('DR')\n",
        "    for i in range(5):\n",
        "        print(f\"(num_samples: {10**(i+1)}): (mean: {dr_means[j][i]} / std: {dr_stds[j][i]})\")"
      ],
      "execution_count": 178,
      "outputs": [
        {
          "output_type": "stream",
          "text": [
            "Policy  1\n",
            "IS\n",
            "(num_samples: 10): (mean: 0.5055141096664386 / std: 0.0841126087466967)\n",
            "(num_samples: 100): (mean: 0.2185380779526419 / std: 0.09364272183659407)\n",
            "(num_samples: 1000): (mean: 0.050763889190099484 / std: 0.034379548298934345)\n",
            "(num_samples: 10000): (mean: 0.013034028146745584 / std: 0.00985369832205204)\n",
            "(num_samples: 100000): (mean: 0.008867909271779035 / std: 0.0045499357965436025)\n",
            "DR\n",
            "(num_samples: 10): (mean: 0.3591546656600733 / std: 0.07712897063546471)\n",
            "(num_samples: 100): (mean: 0.1139926338911985 / std: 0.05927137949328423)\n",
            "(num_samples: 1000): (mean: 0.018054797642611076 / std: 0.01432336705550977)\n",
            "(num_samples: 10000): (mean: 0.016417535143054277 / std: 0.008092848269088213)\n",
            "(num_samples: 100000): (mean: 0.0017646964952084895 / std: 0.0014651104393120441)\n",
            "Policy  2\n",
            "IS\n",
            "(num_samples: 10): (mean: 0.82422996587021 / std: 0.08638202220930342)\n",
            "(num_samples: 100): (mean: 0.4220114616343803 / std: 0.17077649827082694)\n",
            "(num_samples: 1000): (mean: 0.23736604679590986 / std: 0.09607952919981136)\n",
            "(num_samples: 10000): (mean: 0.07298887564506071 / std: 0.04362301438802365)\n",
            "(num_samples: 100000): (mean: 0.02051776849271729 / std: 0.013093953368223598)\n",
            "DR\n",
            "(num_samples: 10): (mean: 0.5990396265637166 / std: 0.061711215701549985)\n",
            "(num_samples: 100): (mean: 0.29840726105253546 / std: 0.15053719158353682)\n",
            "(num_samples: 1000): (mean: 0.052342445277037616 / std: 0.03906408326956807)\n",
            "(num_samples: 10000): (mean: 0.03457648692139032 / std: 0.02019052307895403)\n",
            "(num_samples: 100000): (mean: 0.007937447922045492 / std: 0.0056573399005125395)\n",
            "Policy  3\n",
            "IS\n",
            "(num_samples: 10): (mean: 0.3276681766034585 / std: 0.19407035873240952)\n",
            "(num_samples: 100): (mean: 0.20205308915198053 / std: 0.09982877595020898)\n",
            "(num_samples: 1000): (mean: 0.07144441444600107 / std: 0.0388962604681258)\n",
            "(num_samples: 10000): (mean: 0.012638053382459307 / std: 0.009590797056754944)\n",
            "(num_samples: 100000): (mean: 0.010222289045532159 / std: 0.005694183299827489)\n",
            "DR\n",
            "(num_samples: 10): (mean: 0.22715847721960786 / std: 0.17646619416991777)\n",
            "(num_samples: 100): (mean: 0.04366980063271598 / std: 0.03264231870550841)\n",
            "(num_samples: 1000): (mean: 0.0265475360076001 / std: 0.01948938381446961)\n",
            "(num_samples: 10000): (mean: 0.005469236634831762 / std: 0.003976630854081092)\n",
            "(num_samples: 100000): (mean: 0.002688886153831806 / std: 0.001770037922487963)\n",
            "Policy  4\n",
            "IS\n",
            "(num_samples: 10): (mean: 0.8482044898221518 / std: 0.07989891120285271)\n",
            "(num_samples: 100): (mean: 1.5153476447121568 / std: 1.2111456869440924)\n",
            "(num_samples: 1000): (mean: 0.2150187300822612 / std: 0.16002539439297372)\n",
            "(num_samples: 10000): (mean: 0.062003391972193275 / std: 0.05008640525631827)\n",
            "(num_samples: 100000): (mean: 0.024630370987972543 / std: 0.016797981646419668)\n",
            "DR\n",
            "(num_samples: 10): (mean: 0.6372055299141813 / std: 0.06172645127019695)\n",
            "(num_samples: 100): (mean: 0.6506458023157953 / std: 0.5203918935783077)\n",
            "(num_samples: 1000): (mean: 0.12398845378822985 / std: 0.07292053149122689)\n",
            "(num_samples: 10000): (mean: 0.03431529015003357 / std: 0.02497354857348739)\n",
            "(num_samples: 100000): (mean: 0.006903591045040076 / std: 0.005589635997069277)\n"
          ],
          "name": "stdout"
        }
      ]
    },
    {
      "cell_type": "code",
      "metadata": {
        "id": "r31jjE0JbKym",
        "colab_type": "code",
        "colab": {}
      },
      "source": [
        "import matplotlib.pyplot as plt"
      ],
      "execution_count": 179,
      "outputs": []
    },
    {
      "cell_type": "code",
      "metadata": {
        "id": "9stvfoNvYRA_",
        "colab_type": "code",
        "colab": {
          "base_uri": "https://localhost:8080/",
          "height": 1000
        },
        "outputId": "3f676907-dfb2-4918-a53e-49afc4002a88"
      },
      "source": [
        "x = (np.array([10]*5)**range(1, 6))\n",
        "for i in range(4):\n",
        "    plt.errorbar(x, dr_means[i], yerr=dr_stds[i], color='r')\n",
        "    plt.errorbar(x, is_means[i], yerr=is_stds[i], color='b')\n",
        "    plt.title('Policy ' + str(i+1))\n",
        "    plt.ylim((0,1))\n",
        "    plt.xscale('log')\n",
        "    plt.legend(['DR', 'IS'])\n",
        "    plt.show()"
      ],
      "execution_count": 181,
      "outputs": [
        {
          "output_type": "display_data",
          "data": {
            "image/png": "[encoded data removed]",
            "text/plain": [
              "<Figure size 432x288 with 1 Axes>"
            ]
          },
          "metadata": {
            "tags": [],
            "needs_background": "light"
          }
        },
        {
          "output_type": "display_data",
          "data": {
            "image/png": "[encoded data removed]",
            "text/plain": [
              "<Figure size 432x288 with 1 Axes>"
            ]
          },
          "metadata": {
            "tags": [],
            "needs_background": "light"
          }
        },
        {
          "output_type": "display_data",
          "data": {
            "image/png": "[encoded data removed]",
            "text/plain": [
              "<Figure size 432x288 with 1 Axes>"
            ]
          },
          "metadata": {
            "tags": [],
            "needs_background": "light"
          }
        },
        {
          "output_type": "display_data",
          "data": {
            "image/png": "[encoded data removed]",
            "text/plain": [
              "<Figure size 432x288 with 1 Axes>"
            ]
          },
          "metadata": {
            "tags": [],
            "needs_background": "light"
          }
        }
      ]
    },
    {
      "cell_type": "code",
      "metadata": {
        "id": "oIPeao8DUlVi",
        "colab_type": "code",
        "colab": {}
      },
      "source": [
        ""
      ],
      "execution_count": null,
      "outputs": []
    }
  ]
}