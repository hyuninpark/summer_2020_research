{
  "nbformat": 4,
  "nbformat_minor": 0,
  "metadata": {
    "kernelspec": {
      "display_name": "Python 3",
      "language": "python",
      "name": "python3"
    },
    "language_info": {
      "codemirror_mode": {
        "name": "ipython",
        "version": 3
      },
      "file_extension": ".py",
      "mimetype": "text/x-python",
      "name": "python",
      "nbconvert_exporter": "python",
      "pygments_lexer": "ipython3",
      "version": "3.7.4"
    },
    "colab": {
      "name": "evaluation.ipynb",
      "provenance": [],
      "collapsed_sections": []
    },
    "accelerator": "GPU"
  },
  "cells": [
    {
      "cell_type": "code",
      "metadata": {
        "id": "JW4JqPPWt5rX",
        "colab_type": "code",
        "colab": {}
      },
      "source": [
        "from simulation import run_simulation\n",
        "import numpy as np\n",
        "from policies import *\n",
        "from environment import Servers\n",
        "#from estimators import Evaluation\n",
        "import sys"
      ],
      "execution_count": 1,
      "outputs": []
    },
    {
      "cell_type": "code",
      "metadata": {
        "id": "eQI1IAY6t5re",
        "colab_type": "code",
        "colab": {}
      },
      "source": [
        "\n",
        "# Initialize basic variables\n",
        "num_requests = 15#int(input(\"num_requests: \"))\n",
        "num_servers = 4#int(input(\"num_servers: \"))\n",
        "num_trajectories_list = [0] + [10 ** i for i in range(1, 6)]\n",
        "start_trajectory_index = 0\n",
        "num_boot = 5\n",
        "# end_trajectory_index = 1\n",
        "\n",
        "# Initialize policies\n",
        "behavior_policy = ('UniRan', UniRan(num_servers))\n",
        "target_policy1 = ('LeastLoad_0.3', LeastLoad(num_servers, epsilon=0.3))\n",
        "target_policy2 = ('LeastLoad_0', LeastLoad(num_servers, epsilon=0))\n",
        "target_policy3 = ('EpsilonGreedy', EpsilonGreedy(num_servers, epsilon=0.3))\n",
        "target_policy4 = ('UCB1', UCB1(num_servers))\n",
        "\n",
        "# behavior_policy = ('EpsilonGreedy', EpsilonGreedy(num_servers, epsilon=0.3))\n",
        "# target_policy1 = ('LeastLoad_0.3', LeastLoad(num_servers, epsilon=0.3))\n",
        "# target_policy2 = ('LeastLoad_0', LeastLoad(num_servers, epsilon=0))\n",
        "# target_policy3 = ('UniRan', UniRan(num_servers))\n",
        "# target_policy4 = ('UCB1', UCB1(num_servers))\n",
        "\n",
        "\n",
        "target_policies = [target_policy1, target_policy2, target_policy3, target_policy4]\n",
        "num_target_policies = len(target_policies)\n",
        "\n",
        "policies = [target_policy1, target_policy2, target_policy3, target_policy4, behavior_policy]\n",
        "num_policies = 1 + num_target_policies\n",
        "\n",
        "target_policy_names = [policy[0] for policy in policies if policy != policies[-1]]\n",
        "\n",
        "# Initialize environment (servers)\n",
        "servers = Servers(num_policies=num_policies, num_servers=num_servers)\n"
      ],
      "execution_count": 2,
      "outputs": []
    },
    {
      "cell_type": "code",
      "metadata": {
        "id": "W_VM-IoVEa2x",
        "colab_type": "code",
        "colab": {}
      },
      "source": [
        "import pickle"
      ],
      "execution_count": 3,
      "outputs": []
    },
    {
      "cell_type": "code",
      "metadata": {
        "id": "Jgz0grKLEU9p",
        "colab_type": "code",
        "colab": {
          "base_uri": "https://localhost:8080/",
          "height": 187
        },
        "outputId": "6e25d2aa-f97c-412d-c653-360c354dd6b5"
      },
      "source": [
        "trace_lst = []\n",
        "latency_lst = []\n",
        "for _ in range(10**5):\n",
        "    total_latency_for_each_policy, trace = \\\n",
        "                run_simulation(policies=policies, num_requests=num_requests, servers=servers)\n",
        "    trace_lst.append(trace)\n",
        "    latency_lst.append(total_latency_for_each_policy)\n",
        "    if _ % 10000 == 9999:\n",
        "        print(_, ' complete')\n",
        "with open('trace.p', 'wb') as fp:\n",
        "    pickle.dump(trace_lst, fp)           \n",
        "with open('latency.p', 'wb') as fp:\n",
        "    pickle.dump(latency_lst, fp)  \n"
      ],
      "execution_count": 4,
      "outputs": [
        {
          "output_type": "stream",
          "text": [
            "9999  complete\n",
            "19999  complete\n",
            "29999  complete\n",
            "39999  complete\n",
            "49999  complete\n",
            "59999  complete\n",
            "69999  complete\n",
            "79999  complete\n",
            "89999  complete\n",
            "99999  complete\n"
          ],
          "name": "stdout"
        }
      ]
    },
    {
      "cell_type": "code",
      "metadata": {
        "id": "Z8T3LimYQ9_l",
        "colab_type": "code",
        "colab": {}
      },
      "source": [
        "trace=pickle.load(open('trace.p', 'rb'))"
      ],
      "execution_count": 5,
      "outputs": []
    },
    {
      "cell_type": "code",
      "metadata": {
        "id": "tFkiBS3va8tt",
        "colab_type": "code",
        "colab": {
          "base_uri": "https://localhost:8080/",
          "height": 51
        },
        "outputId": "45b3dbaa-d9c6-46f7-c69d-0f67f19b84d5"
      },
      "source": [
        "pol_rho = [np.zeros((len(trace), num_requests)), np.zeros((len(trace), num_requests)),\n",
        "           np.zeros((len(trace), num_requests)), np.zeros((len(trace), num_requests))]\n",
        "pol_r = [np.zeros((len(trace), num_requests)), np.zeros((len(trace), num_requests)),\n",
        "           np.zeros((len(trace), num_requests)), np.zeros((len(trace), num_requests))]\n",
        "for i in range(len(trace)):\n",
        "    for k in range(len(target_policies)):\n",
        "        target_policies[k][1].reset()\n",
        "    if i%50000 == 49999:\n",
        "        print(i, ' complete')\n",
        "    for j in range(num_requests):\n",
        "        state, action, r, old_p = trace[i][j]\n",
        "        server_load, lst_rewards = state\n",
        "        for k in range(len(target_policies)):\n",
        "            for a_, r_ in lst_rewards:\n",
        "                target_policies[k][1].update(a_, r_)\n",
        "            new_p = target_policies[k][1].choose_action(context=server_load, return_prob=True)\n",
        "            if j == 0:\n",
        "                pol_rho[k][i,j] = new_p[action]/old_p[action]\n",
        "            else:\n",
        "                pol_rho[k][i,j] = new_p[action]/old_p[action]*pol_rho[k][i, j-1]\n",
        "            pol_r[k][i,j] = r"
      ],
      "execution_count": 6,
      "outputs": [
        {
          "output_type": "stream",
          "text": [
            "49999  complete\n",
            "99999  complete\n"
          ],
          "name": "stdout"
        }
      ]
    },
    {
      "cell_type": "code",
      "metadata": {
        "id": "ntpqb9S7r5UQ",
        "colab_type": "code",
        "colab": {}
      },
      "source": [
        "with open('pol_rho.p', 'wb') as fp:\n",
        "    pickle.dump(pol_rho, fp)           \n",
        "with open('pol_r.p', 'wb') as fp:\n",
        "    pickle.dump(pol_r, fp)"
      ],
      "execution_count": null,
      "outputs": []
    },
    {
      "cell_type": "code",
      "metadata": {
        "id": "zX7_R7bRktJV",
        "colab_type": "code",
        "colab": {}
      },
      "source": [
        "pol_rho=pickle.load(open('pol_rho.p', 'rb'))\n",
        "pol_r=pickle.load(open('pol_r.p', 'rb'))"
      ],
      "execution_count": null,
      "outputs": []
    },
    {
      "cell_type": "code",
      "metadata": {
        "id": "Bqvvin8FlDXF",
        "colab_type": "code",
        "colab": {}
      },
      "source": [
        "def get_estimates(pol_rho, pol_r, n_samples):\n",
        "    D = n_samples\n",
        "    estimates = []\n",
        "    for i in range(4):\n",
        "        rhos = pol_rho[i][:D]\n",
        "        rs = pol_r[i][:D]\n",
        "        IS = np.sum(rhos[:,-1]*np.sum(rs, axis=1)/D)\n",
        "        SIS = np.sum(np.sum(rhos*rs/D, axis=1))\n",
        "        ws = np.sum(rhos, axis=0)\n",
        "        WIS = np.sum(rhos[:,-1]/ws[-1]*np.sum(rs, axis=1))\n",
        "        SWIS = np.sum(np.sum(rhos/ws*rs, axis=1))\n",
        "        estimates.append((IS, SIS, WIS, SWIS))\n",
        "    return estimates"
      ],
      "execution_count": 7,
      "outputs": []
    },
    {
      "cell_type": "code",
      "metadata": {
        "id": "IUxzzeiGZsmc",
        "colab_type": "code",
        "colab": {
          "base_uri": "https://localhost:8080/",
          "height": 105
        },
        "outputId": "30fa8c8f-c8ab-4bf4-abba-0d04ebca6b3c"
      },
      "source": [
        "estimates = []\n",
        "for i in range(1, 6):\n",
        "  estimates.append(get_estimates(pol_rho, pol_r, 10**i))"
      ],
      "execution_count": 8,
      "outputs": [
        {
          "output_type": "stream",
          "text": [
            "/usr/local/lib/python3.6/dist-packages/ipykernel_launcher.py:10: RuntimeWarning: invalid value encountered in true_divide\n",
            "  # Remove the CWD from sys.path while we load stuff.\n",
            "/usr/local/lib/python3.6/dist-packages/ipykernel_launcher.py:11: RuntimeWarning: invalid value encountered in true_divide\n",
            "  # This is added back by InteractiveShellApp.init_path()\n"
          ],
          "name": "stderr"
        }
      ]
    },
    {
      "cell_type": "code",
      "metadata": {
        "id": "dkeTIg5wZlNR",
        "colab_type": "code",
        "colab": {
          "base_uri": "https://localhost:8080/",
          "height": 105
        },
        "outputId": "d926dc25-48fd-4f55-e612-432e256ba463"
      },
      "source": [
        "pol_rho = np.array(pol_rho)\n",
        "pol_r = np.array(pol_r)\n",
        "boot_estimates = [estimates]\n",
        "for i in range(100):\n",
        "  boot_ind = np.random.choice(range(10**5), 10**5)\n",
        "  boot_rho = pol_rho[:, boot_ind, :]\n",
        "  boot_r = pol_r[:, boot_ind, :]\n",
        "  estimates = []\n",
        "  for i in range(1, 6):\n",
        "    estimates.append(get_estimates(boot_rho, boot_r, 10**i))\n",
        "  boot_estimates.append(np.array(estimates))"
      ],
      "execution_count": 54,
      "outputs": [
        {
          "output_type": "stream",
          "text": [
            "/usr/local/lib/python3.6/dist-packages/ipykernel_launcher.py:10: RuntimeWarning: invalid value encountered in true_divide\n",
            "  # Remove the CWD from sys.path while we load stuff.\n",
            "/usr/local/lib/python3.6/dist-packages/ipykernel_launcher.py:11: RuntimeWarning: invalid value encountered in true_divide\n",
            "  # This is added back by InteractiveShellApp.init_path()\n"
          ],
          "name": "stderr"
        }
      ]
    },
    {
      "cell_type": "code",
      "metadata": {
        "id": "nVsOQ7Ycaoho",
        "colab_type": "code",
        "colab": {}
      },
      "source": [
        "boot_estimates = np.array(boot_estimates)"
      ],
      "execution_count": 55,
      "outputs": []
    },
    {
      "cell_type": "code",
      "metadata": {
        "id": "4ItVmfT14HOV",
        "colab_type": "code",
        "colab": {}
      },
      "source": [
        "latency=pickle.load(open('latency.p', 'rb'))"
      ],
      "execution_count": 15,
      "outputs": []
    },
    {
      "cell_type": "code",
      "metadata": {
        "id": "1YMSMXqTapb_",
        "colab_type": "code",
        "colab": {}
      },
      "source": [
        "latency = np.array(latency)"
      ],
      "execution_count": 18,
      "outputs": []
    },
    {
      "cell_type": "code",
      "metadata": {
        "id": "cNTY-hr34ide",
        "colab_type": "code",
        "colab": {}
      },
      "source": [
        "true_val = latency.mean(axis=0)[:4]"
      ],
      "execution_count": 22,
      "outputs": []
    },
    {
      "cell_type": "code",
      "metadata": {
        "id": "r31jjE0JbKym",
        "colab_type": "code",
        "colab": {}
      },
      "source": [
        "import matplotlib.pyplot as plt"
      ],
      "execution_count": 23,
      "outputs": []
    },
    {
      "cell_type": "code",
      "metadata": {
        "id": "9stvfoNvYRA_",
        "colab_type": "code",
        "colab": {
          "base_uri": "https://localhost:8080/",
          "height": 553
        },
        "outputId": "fa23fef6-df7a-4ed4-8241-f746e1b5fe3f"
      },
      "source": [
        "a = true_val[0]\n",
        "x = [10**i for i in range(1,6)]\n",
        "for i in range(4): \n",
        "  error = np.abs((a - boot_estimates[:,:,0,i])/a)\n",
        "  plt.plot(x, np.mean(error, axis=0))\n",
        "plt.xscale('log')\n",
        "plt.legend(['IS', 'SIS', 'WIS', 'SWIS'])\n",
        "plt.title('Least Load 0.3')\n",
        "plt.show()\n",
        "\n",
        "fig, ((ax1, ax2), (ax3, ax4)) = plt.subplots(2, 2)\n",
        "axs = [ax1, ax2, ax3, ax4]\n",
        "titles = ['IS', 'SIS', 'WIS', 'SWIS']\n",
        "for i in range(4): \n",
        "  error = np.abs((a - boot_estimates[:,:,0,i])/a)\n",
        "  axs[i].plot(x, np.mean(error, axis=0))\n",
        "  axs[i].errorbar(x, np.mean(error, axis=0), np.std(error, axis=0))\n",
        "  axs[i].set_xscale('log')\n",
        "  axs[i].title.set_text(titles[i])\n",
        "fig.show()"
      ],
      "execution_count": 64,
      "outputs": [
        {
          "output_type": "display_data",
          "data": {
            "image/png": "[encoded data removed]",
            "text/plain": [
              "<Figure size 432x288 with 1 Axes>"
            ]
          },
          "metadata": {
            "tags": [],
            "needs_background": "light"
          }
        },
        {
          "output_type": "display_data",
          "data": {
            "image/png": "[encoded data removed]",
            "text/plain": [
              "<Figure size 432x288 with 4 Axes>"
            ]
          },
          "metadata": {
            "tags": [],
            "needs_background": "light"
          }
        }
      ]
    },
    {
      "cell_type": "code",
      "metadata": {
        "id": "Au4o0qKrY7Ff",
        "colab_type": "code",
        "colab": {
          "base_uri": "https://localhost:8080/",
          "height": 285
        },
        "outputId": "8fe3050a-4f0c-475a-e115-62bdb18f46c2"
      },
      "source": [
        "a = true_val[1]\n",
        "for i in [1]: \n",
        "  error = np.abs((a - boot_estimates[:,:,1,i])/a)\n",
        "  plt.plot(x, np.mean(error, axis=0))\n",
        "  plt.errorbar(x, np.mean(error, axis=0), np.std(error, axis=0), ecolor='r')\n",
        "plt.xscale('log')\n",
        "plt.legend(['SIS'])\n",
        "plt.title('Least Load 0')\n",
        "plt.show()"
      ],
      "execution_count": 67,
      "outputs": [
        {
          "output_type": "display_data",
          "data": {
            "image/png": "[encoded data removed]",
            "text/plain": [
              "<Figure size 432x288 with 1 Axes>"
            ]
          },
          "metadata": {
            "tags": [],
            "needs_background": "light"
          }
        }
      ]
    },
    {
      "cell_type": "code",
      "metadata": {
        "id": "zK9nI8b_jpeZ",
        "colab_type": "code",
        "colab": {
          "base_uri": "https://localhost:8080/",
          "height": 553
        },
        "outputId": "84a7e328-ac56-4fe4-f930-cedad822ab9c"
      },
      "source": [
        "a = true_val[2]\n",
        "x = [10**i for i in range(1,6)]\n",
        "for i in range(4): \n",
        "  error = np.abs((a - boot_estimates[:,:,2,i])/a)\n",
        "  plt.plot(x, np.mean(error, axis=0))\n",
        "plt.xscale('log')\n",
        "plt.legend(['IS', 'SIS', 'WIS', 'SWIS'])\n",
        "plt.title('Epsilon Greedy')\n",
        "plt.show()\n",
        "\n",
        "fig, ((ax1, ax2), (ax3, ax4)) = plt.subplots(2, 2)\n",
        "axs = [ax1, ax2, ax3, ax4]\n",
        "titles = ['IS', 'SIS', 'WIS', 'SWIS']\n",
        "for i in range(4): \n",
        "  error = np.abs((a - boot_estimates[:,:,2,i])/a)\n",
        "  axs[i].plot(x, np.mean(error, axis=0))\n",
        "  axs[i].errorbar(x, np.mean(error, axis=0), np.std(error, axis=0))\n",
        "  axs[i].set_xscale('log')\n",
        "  axs[i].title.set_text(titles[i])\n",
        "fig.show()"
      ],
      "execution_count": 68,
      "outputs": [
        {
          "output_type": "display_data",
          "data": {
            "image/png": "[encoded data removed]",
            "text/plain": [
              "<Figure size 432x288 with 1 Axes>"
            ]
          },
          "metadata": {
            "tags": [],
            "needs_background": "light"
          }
        },
        {
          "output_type": "display_data",
          "data": {
            "image/png": "[encoded data removed]",
            "text/plain": [
              "<Figure size 432x288 with 4 Axes>"
            ]
          },
          "metadata": {
            "tags": [],
            "needs_background": "light"
          }
        }
      ]
    },
    {
      "cell_type": "code",
      "metadata": {
        "id": "VULReZCmkOgw",
        "colab_type": "code",
        "colab": {
          "base_uri": "https://localhost:8080/",
          "height": 285
        },
        "outputId": "5d57d22a-43e1-40f0-df65-be8c6a0ce526"
      },
      "source": [
        "a = true_val[3]\n",
        "for i in [1]: \n",
        "  error = np.abs((a - boot_estimates[:,:,3,i])/a)\n",
        "  plt.plot(x, np.mean(error, axis=0))\n",
        "  plt.errorbar(x, np.mean(error, axis=0), np.std(error, axis=0), ecolor='r')\n",
        "plt.xscale('log')\n",
        "plt.legend(['SIS'])\n",
        "plt.title('UCB1')\n",
        "plt.show()"
      ],
      "execution_count": 71,
      "outputs": [
        {
          "output_type": "display_data",
          "data": {
            "image/png": "[encoded data removed]",
            "text/plain": [
              "<Figure size 432x288 with 1 Axes>"
            ]
          },
          "metadata": {
            "tags": [],
            "needs_background": "light"
          }
        }
      ]
    }
  ]
}