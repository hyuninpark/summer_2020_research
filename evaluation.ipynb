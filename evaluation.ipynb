{
 "cells": [
  {
   "cell_type": "code",
   "execution_count": 1,
   "metadata": {
    "colab": {},
    "colab_type": "code",
    "id": "JW4JqPPWt5rX"
   },
   "outputs": [],
   "source": [
    "from simulation import run_simulation\n",
    "import numpy as np\n",
    "from policies import *\n",
    "from environment import Servers\n",
    "import sys"
   ]
  },
  {
   "cell_type": "code",
   "execution_count": 2,
   "metadata": {
    "colab": {},
    "colab_type": "code",
    "id": "eQI1IAY6t5re"
   },
   "outputs": [],
   "source": [
    "\n",
    "# Initialize basic variables\n",
    "num_requests = 15#int(input(\"num_requests: \"))\n",
    "num_servers = 4#int(input(\"num_servers: \"))\n",
    "num_trajectories_list = [0] + [10 ** i for i in range(1, 7)]\n",
    "start_trajectory_index = 0\n",
    "num_boot = 5\n",
    "# end_trajectory_index = 1\n",
    "\n",
    "# Initialize policies\n",
    "behavior_policy = ('UniRan', UniRan(num_servers))\n",
    "target_policy1 = ('LeastLoad_0.3', LeastLoad(num_servers, epsilon=0.3))\n",
    "target_policy2 = ('LeastLoad_0', LeastLoad(num_servers, epsilon=0))\n",
    "target_policy3 = ('EpsilonGreedy', EpsilonGreedy(num_servers, epsilon=0.3))\n",
    "target_policy4 = ('UCB1', UCB1(num_servers))\n",
    "\n",
    "# behavior_policy = ('EpsilonGreedy', EpsilonGreedy(num_servers, epsilon=0.3))\n",
    "# target_policy1 = ('LeastLoad_0.3', LeastLoad(num_servers, epsilon=0.3))\n",
    "# target_policy2 = ('LeastLoad_0', LeastLoad(num_servers, epsilon=0))\n",
    "# target_policy3 = ('UniRan', UniRan(num_servers))\n",
    "# target_policy4 = ('UCB1', UCB1(num_servers))\n",
    "\n",
    "\n",
    "target_policies = [target_policy1, target_policy2, target_policy3, target_policy4]\n",
    "num_target_policies = len(target_policies)\n",
    "\n",
    "policies = [target_policy1, target_policy2, target_policy3, target_policy4, behavior_policy]\n",
    "num_policies = 1 + num_target_policies\n",
    "\n",
    "target_policy_names = [policy[0] for policy in policies if policy != policies[-1]]\n",
    "\n",
    "# Initialize environment (servers)\n",
    "servers = Servers(num_policies=num_policies, num_servers=num_servers)\n"
   ]
  },
  {
   "cell_type": "code",
   "execution_count": 3,
   "metadata": {
    "colab": {},
    "colab_type": "code",
    "id": "W_VM-IoVEa2x"
   },
   "outputs": [],
   "source": [
    "import pickle"
   ]
  },
  {
   "cell_type": "code",
   "execution_count": 5,
   "metadata": {
    "colab": {
     "base_uri": "https://localhost:8080/",
     "height": 102
    },
    "colab_type": "code",
    "id": "Jgz0grKLEU9p",
    "outputId": "58f45f0f-c4cb-4773-ae2c-4d5b7f89a385"
   },
   "outputs": [
    {
     "name": "stdout",
     "output_type": "stream",
     "text": [
      "99999  complete\n",
      "199999  complete\n",
      "299999  complete\n",
      "399999  complete\n",
      "499999  complete\n"
     ]
    }
   ],
   "source": [
    "trace_lst = []\n",
    "latency_lst = []\n",
    "for _ in range(5*10**5):\n",
    "    total_latency_for_each_policy, trace = \\\n",
    "                run_simulation(policies=policies, num_requests=num_requests, servers=servers)\n",
    "    trace_lst.append(trace)\n",
    "    latency_lst.append(total_latency_for_each_policy)\n",
    "    if _ % 100000 == 99999:\n",
    "        print(_, ' complete')\n",
    "with open('trace1.p', 'wb') as fp:\n",
    "    pickle.dump(trace_lst, fp)           \n",
    "with open('latency1.p', 'wb') as fp:\n",
    "    pickle.dump(latency_lst, fp)  \n"
   ]
  },
  {
   "cell_type": "code",
   "execution_count": 4,
   "metadata": {
    "colab": {
     "base_uri": "https://localhost:8080/",
     "height": 102
    },
    "colab_type": "code",
    "id": "ePdYu26v2i2d",
    "outputId": "62bf03d9-4f34-4f78-dec6-a6730f1a0b89"
   },
   "outputs": [
    {
     "name": "stdout",
     "output_type": "stream",
     "text": [
      "99999  complete\n",
      "199999  complete\n",
      "299999  complete\n",
      "399999  complete\n",
      "499999  complete\n"
     ]
    }
   ],
   "source": [
    "trace_lst = []\n",
    "latency_lst = []\n",
    "for _ in range(5*10**5):\n",
    "    total_latency_for_each_policy, trace = \\\n",
    "                run_simulation(policies=policies, num_requests=num_requests, servers=servers)\n",
    "    trace_lst.append(trace)\n",
    "    latency_lst.append(total_latency_for_each_policy)\n",
    "    if _ % 100000 == 99999:\n",
    "        print(_, ' complete')\n",
    "with open('trace2.p', 'wb') as fp:\n",
    "    pickle.dump(trace_lst, fp)           \n",
    "with open('latency2.p', 'wb') as fp:\n",
    "    pickle.dump(latency_lst, fp)  \n"
   ]
  },
  {
   "cell_type": "code",
   "execution_count": 4,
   "metadata": {
    "colab": {},
    "colab_type": "code",
    "id": "Z8T3LimYQ9_l"
   },
   "outputs": [],
   "source": [
    "trace=pickle.load(open('trace1.p', 'rb'))"
   ]
  },
  {
   "cell_type": "code",
   "execution_count": 5,
   "metadata": {
    "colab": {
     "base_uri": "https://localhost:8080/",
     "height": 34
    },
    "colab_type": "code",
    "id": "tFkiBS3va8tt",
    "outputId": "1dcbe6c5-7359-4c6d-96f5-b10ca8d69826"
   },
   "outputs": [
    {
     "name": "stdout",
     "output_type": "stream",
     "text": [
      "499999  complete\n"
     ]
    }
   ],
   "source": [
    "pol_rho1 = [np.zeros((len(trace), num_requests)), np.zeros((len(trace), num_requests)),\n",
    "           np.zeros((len(trace), num_requests)), np.zeros((len(trace), num_requests))]\n",
    "pol_r1 = [np.zeros((len(trace), num_requests)), np.zeros((len(trace), num_requests)),\n",
    "           np.zeros((len(trace), num_requests)), np.zeros((len(trace), num_requests))]\n",
    "for i in range(len(trace)):\n",
    "    for k in range(len(target_policies)):\n",
    "        target_policies[k][1].reset()\n",
    "    if i%500000 == 499999:\n",
    "        print(i, ' complete')\n",
    "    for j in range(num_requests):\n",
    "        state, action, r, old_p = trace[i][j]\n",
    "        server_load, lst_rewards = state\n",
    "        for k in range(len(target_policies)):\n",
    "            for a_, r_ in lst_rewards:\n",
    "                target_policies[k][1].update(a_, r_)\n",
    "            new_p = target_policies[k][1].choose_action(context=server_load, return_prob=True)\n",
    "            if j == 0:\n",
    "                pol_rho1[k][i,j] = new_p[action]/old_p[action]\n",
    "            else:\n",
    "                pol_rho1[k][i,j] = new_p[action]/old_p[action]*pol_rho1[k][i, j-1]\n",
    "            pol_r1[k][i,j] = r"
   ]
  },
  {
   "cell_type": "code",
   "execution_count": 6,
   "metadata": {
    "colab": {},
    "colab_type": "code",
    "id": "vnoD3MBB22Lz"
   },
   "outputs": [],
   "source": [
    "trace = None"
   ]
  },
  {
   "cell_type": "code",
   "execution_count": 7,
   "metadata": {
    "colab": {},
    "colab_type": "code",
    "id": "cVAxHpSy274F"
   },
   "outputs": [],
   "source": [
    "trace=pickle.load(open('trace2.p', 'rb'))"
   ]
  },
  {
   "cell_type": "code",
   "execution_count": 8,
   "metadata": {
    "colab": {
     "base_uri": "https://localhost:8080/",
     "height": 187
    },
    "colab_type": "code",
    "id": "0WQt3opG3AZo",
    "outputId": "67057d37-a2ca-4bb7-d9b5-9296533b4352"
   },
   "outputs": [
    {
     "name": "stdout",
     "output_type": "stream",
     "text": [
      "49999  complete\n",
      "99999  complete\n",
      "149999  complete\n",
      "199999  complete\n",
      "249999  complete\n",
      "299999  complete\n",
      "349999  complete\n",
      "399999  complete\n",
      "449999  complete\n",
      "499999  complete\n"
     ]
    }
   ],
   "source": [
    "pol_rho2 = [np.zeros((len(trace), num_requests)), np.zeros((len(trace), num_requests)),\n",
    "           np.zeros((len(trace), num_requests)), np.zeros((len(trace), num_requests))]\n",
    "pol_r2 = [np.zeros((len(trace), num_requests)), np.zeros((len(trace), num_requests)),\n",
    "           np.zeros((len(trace), num_requests)), np.zeros((len(trace), num_requests))]\n",
    "for i in range(len(trace)):\n",
    "    for k in range(len(target_policies)):\n",
    "        target_policies[k][1].reset()\n",
    "    if i%50000 == 49999:\n",
    "        print(i, ' complete')\n",
    "    for j in range(num_requests):\n",
    "        state, action, r, old_p = trace[i][j]\n",
    "        server_load, lst_rewards = state\n",
    "        for k in range(len(target_policies)):\n",
    "            for a_, r_ in lst_rewards:\n",
    "                target_policies[k][1].update(a_, r_)\n",
    "            new_p = target_policies[k][1].choose_action(context=server_load, return_prob=True,\n",
    "                                                        behavior_policy=False, chosen_action=action)\n",
    "            if j == 0:\n",
    "                pol_rho2[k][i,j] = new_p[action]/old_p[action]\n",
    "            else:\n",
    "                pol_rho2[k][i,j] = new_p[action]/old_p[action]*pol_rho2[k][i, j-1]\n",
    "            pol_r2[k][i,j] = r"
   ]
  },
  {
   "cell_type": "code",
   "execution_count": 9,
   "metadata": {
    "colab": {},
    "colab_type": "code",
    "id": "qkD69zNe3Ic8"
   },
   "outputs": [],
   "source": [
    "trace = None"
   ]
  },
  {
   "cell_type": "code",
   "execution_count": 13,
   "metadata": {
    "colab": {},
    "colab_type": "code",
    "id": "6NVXygF_3JVE"
   },
   "outputs": [],
   "source": [
    "pol_rho = np.concatenate((pol_rho1, pol_rho2), axis=1)\n",
    "pol_r = np.concatenate((pol_r1, pol_r2), axis=1)"
   ]
  },
  {
   "cell_type": "code",
   "execution_count": 15,
   "metadata": {
    "colab": {},
    "colab_type": "code",
    "id": "ntpqb9S7r5UQ"
   },
   "outputs": [],
   "source": [
    "with open('pol_rho.p', 'wb') as fp:\n",
    "    pickle.dump(pol_rho, fp)           \n",
    "with open('pol_r.p', 'wb') as fp:\n",
    "    pickle.dump(pol_r, fp)"
   ]
  },
  {
   "cell_type": "code",
   "execution_count": 16,
   "metadata": {
    "colab": {},
    "colab_type": "code",
    "id": "zX7_R7bRktJV"
   },
   "outputs": [],
   "source": [
    "pol_rho=pickle.load(open('pol_rho.p', 'rb'))\n",
    "pol_r=pickle.load(open('pol_r.p', 'rb'))"
   ]
  },
  {
   "cell_type": "code",
   "execution_count": 17,
   "metadata": {
    "colab": {},
    "colab_type": "code",
    "id": "Bqvvin8FlDXF"
   },
   "outputs": [],
   "source": [
    "def get_estimates(pol_rho, pol_r, n_samples):\n",
    "    D = n_samples\n",
    "    estimates = []\n",
    "    for i in range(4):\n",
    "        rhos = pol_rho[i][:D]\n",
    "        rs = pol_r[i][:D]\n",
    "        IS = np.sum(rhos[:,-1]*np.sum(rs, axis=1)/D)\n",
    "        SIS = np.sum(np.sum(rhos*rs/D, axis=1))\n",
    "        ws = np.sum(rhos, axis=0)\n",
    "        WIS = np.sum(rhos[:,-1]/ws[-1]*np.sum(rs, axis=1))\n",
    "        SWIS = np.sum(np.sum(rhos/ws*rs, axis=1))\n",
    "        estimates.append((IS, SIS, WIS, SWIS))\n",
    "    return estimates"
   ]
  },
  {
   "cell_type": "code",
   "execution_count": 18,
   "metadata": {
    "colab": {
     "base_uri": "https://localhost:8080/",
     "height": 105
    },
    "colab_type": "code",
    "id": "IUxzzeiGZsmc",
    "outputId": "d353b41a-ef42-4298-b190-998c6bb63c24"
   },
   "outputs": [
    {
     "name": "stderr",
     "output_type": "stream",
     "text": [
      "/usr/local/lib/python3.6/dist-packages/ipykernel_launcher.py:10: RuntimeWarning: invalid value encountered in true_divide\n",
      "  # Remove the CWD from sys.path while we load stuff.\n",
      "/usr/local/lib/python3.6/dist-packages/ipykernel_launcher.py:11: RuntimeWarning: invalid value encountered in true_divide\n",
      "  # This is added back by InteractiveShellApp.init_path()\n"
     ]
    }
   ],
   "source": [
    "estimates = []\n",
    "for i in range(1, 7):\n",
    "  estimates.append(get_estimates(pol_rho, pol_r, 10**i))"
   ]
  },
  {
   "cell_type": "code",
   "execution_count": 35,
   "metadata": {
    "colab": {
     "base_uri": "https://localhost:8080/",
     "height": 190
    },
    "colab_type": "code",
    "id": "dkeTIg5wZlNR",
    "outputId": "1d137af7-466e-4c9e-8eee-3d3a9e0f29bd"
   },
   "outputs": [
    {
     "name": "stderr",
     "output_type": "stream",
     "text": [
      "/usr/local/lib/python3.6/dist-packages/ipykernel_launcher.py:10: RuntimeWarning: invalid value encountered in true_divide\n",
      "  # Remove the CWD from sys.path while we load stuff.\n",
      "/usr/local/lib/python3.6/dist-packages/ipykernel_launcher.py:11: RuntimeWarning: invalid value encountered in true_divide\n",
      "  # This is added back by InteractiveShellApp.init_path()\n"
     ]
    },
    {
     "name": "stdout",
     "output_type": "stream",
     "text": [
      "20  complete\n",
      "40  complete\n",
      "60  complete\n",
      "80  complete\n",
      "100  complete\n"
     ]
    }
   ],
   "source": [
    "boot_estimates = [estimates]\n",
    "for i in range(100):\n",
    "  if i % 20 == 19:\n",
    "    print(i+1, ' complete')\n",
    "  boot_ind = np.random.choice(range(10**6), 10**6)\n",
    "  boot_rho = pol_rho[:, boot_ind, :]\n",
    "  boot_r = pol_r[:, boot_ind, :]\n",
    "  estimates = []\n",
    "  for i in range(1, 7):\n",
    "    estimates.append(get_estimates(boot_rho, boot_r, 10**i))\n",
    "  boot_estimates.append(np.array(estimates))"
   ]
  },
  {
   "cell_type": "code",
   "execution_count": 36,
   "metadata": {
    "colab": {},
    "colab_type": "code",
    "id": "nVsOQ7Ycaoho"
   },
   "outputs": [],
   "source": [
    "boot_estimates = np.array(boot_estimates)"
   ]
  },
  {
   "cell_type": "code",
   "execution_count": 21,
   "metadata": {
    "colab": {},
    "colab_type": "code",
    "id": "4ItVmfT14HOV"
   },
   "outputs": [],
   "source": [
    "latency1=pickle.load(open('latency1.p', 'rb'))\n",
    "latency2=pickle.load(open('latency2.p', 'rb'))"
   ]
  },
  {
   "cell_type": "code",
   "execution_count": 25,
   "metadata": {
    "colab": {},
    "colab_type": "code",
    "id": "1YMSMXqTapb_"
   },
   "outputs": [],
   "source": [
    "latency = np.concatenate((latency1, latency2), axis=0)"
   ]
  },
  {
   "cell_type": "code",
   "execution_count": 27,
   "metadata": {
    "colab": {},
    "colab_type": "code",
    "id": "cNTY-hr34ide"
   },
   "outputs": [],
   "source": [
    "true_val = latency.mean(axis=0)[:4]"
   ]
  },
  {
   "cell_type": "code",
   "execution_count": 29,
   "metadata": {
    "colab": {},
    "colab_type": "code",
    "id": "r31jjE0JbKym"
   },
   "outputs": [],
   "source": [
    "import matplotlib.pyplot as plt"
   ]
  },
  {
   "cell_type": "code",
   "execution_count": 37,
   "metadata": {
    "colab": {
     "base_uri": "https://localhost:8080/",
     "height": 538
    },
    "colab_type": "code",
    "id": "9stvfoNvYRA_",
    "outputId": "e6ebc28e-fa9f-4498-94c2-ba733fced0b8"
   },
   "outputs": [
    {
     "data": {
      "image/png": "[encoded data removed]",
      "text/plain": [
       "<Figure size 432x288 with 1 Axes>"
      ]
     },
     "metadata": {
      "needs_background": "light",
      "tags": []
     },
     "output_type": "display_data"
    },
    {
     "data": {
      "image/png": "[encoded data removed]",
      "text/plain": [
       "<Figure size 432x288 with 4 Axes>"
      ]
     },
     "metadata": {
      "needs_background": "light",
      "tags": []
     },
     "output_type": "display_data"
    }
   ],
   "source": [
    "a = true_val[0]\n",
    "x = [10**i for i in range(1,7)]\n",
    "for i in range(4): \n",
    "  error = np.abs((a - boot_estimates[:,:,0,i])/a)\n",
    "  plt.plot(x, np.mean(error, axis=0))\n",
    "plt.xscale('log')\n",
    "plt.legend(['IS', 'SIS', 'WIS', 'SWIS'])\n",
    "plt.title('Least Load 0.3')\n",
    "plt.show()\n",
    "\n",
    "fig, ((ax1, ax2), (ax3, ax4)) = plt.subplots(2, 2)\n",
    "axs = [ax1, ax2, ax3, ax4]\n",
    "titles = ['IS', 'SIS', 'WIS', 'SWIS']\n",
    "for i in range(4): \n",
    "  error = np.abs((a - boot_estimates[:,:,0,i])/a)\n",
    "  axs[i].plot(x, np.mean(error, axis=0))\n",
    "  axs[i].errorbar(x, np.mean(error, axis=0), np.std(error, axis=0))\n",
    "  axs[i].set_xscale('log')\n",
    "  axs[i].title.set_text(titles[i])\n",
    "  axs[i].set_ylim(0,1)\n",
    "  axs[i].set_xticks([])\n",
    "fig.show()"
   ]
  },
  {
   "cell_type": "code",
   "execution_count": 39,
   "metadata": {
    "colab": {
     "base_uri": "https://localhost:8080/",
     "height": 285
    },
    "colab_type": "code",
    "id": "Au4o0qKrY7Ff",
    "outputId": "ec927936-ca39-4de6-f515-8aa923d73732"
   },
   "outputs": [
    {
     "data": {
      "image/png": "[encoded data removed]",
      "text/plain": [
       "<Figure size 432x288 with 1 Axes>"
      ]
     },
     "metadata": {
      "needs_background": "light",
      "tags": []
     },
     "output_type": "display_data"
    }
   ],
   "source": [
    "a = true_val[1]\n",
    "for i in [1]: \n",
    "  error = np.abs((a - boot_estimates[:,:,1,i])/a)\n",
    "  plt.plot(x, np.mean(error, axis=0))\n",
    "  plt.errorbar(x, np.mean(error, axis=0), np.std(error, axis=0), ecolor='r')\n",
    "plt.xscale('log')\n",
    "plt.ylim(0,1)\n",
    "plt.legend(['SIS'])\n",
    "plt.title('Least Load 0')\n",
    "plt.show()"
   ]
  },
  {
   "cell_type": "code",
   "execution_count": 41,
   "metadata": {
    "colab": {
     "base_uri": "https://localhost:8080/",
     "height": 538
    },
    "colab_type": "code",
    "id": "zK9nI8b_jpeZ",
    "outputId": "107d3fbd-2a9b-4926-c65c-0460e587ae5e"
   },
   "outputs": [
    {
     "data": {
      "image/png": "[encoded data removed]",
      "text/plain": [
       "<Figure size 432x288 with 1 Axes>"
      ]
     },
     "metadata": {
      "needs_background": "light",
      "tags": []
     },
     "output_type": "display_data"
    },
    {
     "data": {
      "image/png": "[encoded data removed]",
      "text/plain": [
       "<Figure size 432x288 with 4 Axes>"
      ]
     },
     "metadata": {
      "needs_background": "light",
      "tags": []
     },
     "output_type": "display_data"
    }
   ],
   "source": [
    "a = true_val[2]\n",
    "for i in range(4): \n",
    "  error = np.abs((a - boot_estimates[:,:,2,i])/a)\n",
    "  plt.plot(x, np.mean(error, axis=0))\n",
    "plt.xscale('log')\n",
    "plt.legend(['IS', 'SIS', 'WIS', 'SWIS'])\n",
    "plt.title('Epsilon Greedy')\n",
    "plt.show()\n",
    "\n",
    "fig, ((ax1, ax2), (ax3, ax4)) = plt.subplots(2, 2)\n",
    "axs = [ax1, ax2, ax3, ax4]\n",
    "titles = ['IS', 'SIS', 'WIS', 'SWIS']\n",
    "for i in range(4): \n",
    "  error = np.abs((a - boot_estimates[:,:,2,i])/a)\n",
    "  axs[i].plot(x, np.mean(error, axis=0))\n",
    "  axs[i].errorbar(x, np.mean(error, axis=0), np.std(error, axis=0))\n",
    "  axs[i].set_xscale('log')\n",
    "  axs[i].title.set_text(titles[i])\n",
    "  axs[i].set_ylim(0,1)\n",
    "  axs[i].set_xticks([])\n",
    "fig.show()"
   ]
  },
  {
   "cell_type": "code",
   "execution_count": 42,
   "metadata": {
    "colab": {
     "base_uri": "https://localhost:8080/",
     "height": 285
    },
    "colab_type": "code",
    "id": "VULReZCmkOgw",
    "outputId": "7a0a36c3-fbf4-4058-8a54-cb7b64cfad0b"
   },
   "outputs": [
    {
     "data": {
      "image/png": "[encoded data removed]",
      "text/plain": [
       "<Figure size 432x288 with 1 Axes>"
      ]
     },
     "metadata": {
      "needs_background": "light",
      "tags": []
     },
     "output_type": "display_data"
    }
   ],
   "source": [
    "a = true_val[3]\n",
    "for i in [1]: \n",
    "  error = np.abs((a - boot_estimates[:,:,3,i])/a)\n",
    "  plt.plot(x, np.mean(error, axis=0))\n",
    "  plt.errorbar(x, np.mean(error, axis=0), np.std(error, axis=0), ecolor='r')\n",
    "plt.xscale('log')\n",
    "plt.ylim((0, 1))\n",
    "plt.legend(['SIS'])\n",
    "plt.title('UCB1')\n",
    "plt.show()"
   ]
  }
 ],
 "metadata": {
  "accelerator": "GPU",
  "colab": {
   "collapsed_sections": [],
   "name": "evaluation.ipynb",
   "provenance": []
  },
  "kernelspec": {
   "display_name": "Python 3",
   "language": "python",
   "name": "python3"
  },
  "language_info": {
   "codemirror_mode": {
    "name": "ipython",
    "version": 3
   },
   "file_extension": ".py",
   "mimetype": "text/x-python",
   "name": "python",
   "nbconvert_exporter": "python",
   "pygments_lexer": "ipython3",
   "version": "3.7.4"
  }
 },
 "nbformat": 4,
 "nbformat_minor": 1
}
