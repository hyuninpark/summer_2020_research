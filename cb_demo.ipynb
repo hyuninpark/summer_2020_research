{
 "cells": [
  {
   "cell_type": "code",
   "execution_count": 12,
   "metadata": {},
   "outputs": [],
   "source": [
    "import numpy as np \n",
    "from matplotlib import pyplot as plt\n",
    "\n",
    "np.random.seed(0)\n",
    "\n",
    "# Initialize an environment\n",
    "\n",
    "# Each user is a context\n",
    "# Each user is denoted by his/her index (ex: user 0 or user 3)\n",
    "num_users = 5 \n",
    "\n",
    "# Each advertisment is an action\n",
    "num_ads = 10 # There are 10 ads \n",
    "epsilon = 0.1\n",
    "\n",
    "# reward_table is a dictionary of key: the index of a user / value: np.array of the deterministic reward of each action (ad)\n",
    "reward_table = {user: np.random.choice(10, size=num_ads) for user in range(num_users)}"
   ]
  },
  {
   "cell_type": "code",
   "execution_count": 2,
   "metadata": {},
   "outputs": [
    {
     "data": {
      "text/plain": [
       "{0: array([5, 0, 3, 3, 7, 9, 3, 5, 2, 4]),\n",
       " 1: array([7, 6, 8, 8, 1, 6, 7, 7, 8, 1]),\n",
       " 2: array([5, 9, 8, 9, 4, 3, 0, 3, 5, 0]),\n",
       " 3: array([2, 3, 8, 1, 3, 3, 3, 7, 0, 1]),\n",
       " 4: array([9, 9, 0, 4, 7, 3, 2, 7, 2, 0])}"
      ]
     },
     "execution_count": 2,
     "metadata": {},
     "output_type": "execute_result"
    }
   ],
   "source": [
    "reward_table"
   ]
  },
  {
   "cell_type": "code",
   "execution_count": 3,
   "metadata": {},
   "outputs": [],
   "source": [
    "class UniformlyRandom:\n",
    "    def __init__(self, num_actions):\n",
    "        \"\"\"\n",
    "        num_actions: number of actions (in this demo, it is equal to the number of ads)\n",
    "        \"\"\"\n",
    "        self.num_actions = num_actions \n",
    "\n",
    "    def choose_action(self, context ):\n",
    "        \"\"\"\n",
    "        return a chosen action and action-probabilities\n",
    "        \"\"\"\n",
    "        return np.random.choice(self.num_actions), [1 / self.num_actions] * self.num_actions\n",
    "\n",
    "    def update(self, cb_sample):\n",
    "        \"\"\"\n",
    "        UniformlyRandom is a stateless policy, which means it does not update itself\n",
    "        based on the past rewards revelaed by it.\n",
    "        (parameters)\n",
    "        cb_sample: a tuple of (context, chosen action, reward revealed)\n",
    "        \"\"\"\n",
    "        pass"
   ]
  },
  {
   "cell_type": "code",
   "execution_count": 4,
   "metadata": {},
   "outputs": [],
   "source": [
    "class EpsilonGreedy:\n",
    "    def __init__(self, num_actions, num_contexts, epsilon=0.1):\n",
    "        \"\"\"\n",
    "        This is a CB verision of epsilon greedy\n",
    "        (parameters)\n",
    "        num_actions: number of actions (= number of ads)\n",
    "        num_contexts: number of contexts (= number of users)\n",
    "        epsilon: this policy chooeses a random action with epsilon probability \n",
    "        (Stored values)\n",
    "        self.num_actions = num_actions \n",
    "        self.num_contexts = num_contexts\n",
    "        self.num_actions_chosen: keep track of how many times each action is chosen for each context\n",
    "        self.sum_rewards: keep track of the total reward of each action for each context\n",
    "        The reason why self.num_actions_chosen is initialized with np.ones instead of np.zeros is\n",
    "        to prevent division by zero in the function choose_action (line 68) \n",
    "        when an action has never been chosen so far for a given context.\n",
    "        \"\"\"\n",
    "        self.num_actions = num_actions \n",
    "        self.num_contexts = num_contexts\n",
    "        self.num_actions_chosen = {context: np.ones(num_actions) for context in range(num_contexts)}\n",
    "        self.sum_rewards = {context: np.zeros(num_actions) for context in range(num_contexts)}\n",
    "        self.epsilon = epsilon\n",
    "\n",
    "    def choose_action(self, context):\n",
    "        \"\"\"\n",
    "        return a chosen action and its probability\n",
    "        \"\"\"\n",
    "        # Check which action is the best action \n",
    "        # The best action is the action that has the highest total reward for a given context\n",
    "        best_action = np.argmax(self.sum_rewards[context] / self.num_actions_chosen[context])\n",
    "\n",
    "        # Get action probabilities based on the best action\n",
    "        # there is a (epsilon + epsilon/num_actions) probability of choosing the best action.\n",
    "        # there is a (epsilon/num_actions) probability of choosing any other action\n",
    "        action_probabilities = [self.epsilon / self.num_actions] * self.num_actions\n",
    "        action_probabilities[best_action] += 1 - self.epsilon\n",
    "\n",
    "        # Sample an action\n",
    "        chosen_action = np.random.choice(self.num_actions, p=action_probabilities)\n",
    "\n",
    "        # Record the number of times the chosen action is chosen\n",
    "        self.num_actions_chosen[context][chosen_action] += 1\n",
    "\n",
    "        return chosen_action, action_probabilities\n",
    "\n",
    "    def update(self, cb_sample):\n",
    "        \"\"\"\n",
    "        EpsilonGreedy is a stateful policy, which means it does update itself\n",
    "        based on the past rewards revelaed by it.\n",
    "        Thus, update function is necessary.\n",
    "        (parameters)\n",
    "        cb_sample: a tuple of (context, chosen action, reward revealed)\n",
    "        \"\"\"\n",
    "        context, chosen_action, reward_revealed = cb_sample\n",
    "\n",
    "        self.sum_rewards[context][chosen_action] += reward_revealed"
   ]
  },
  {
   "cell_type": "code",
   "execution_count": 5,
   "metadata": {},
   "outputs": [],
   "source": [
    "class IPS:\n",
    "    def __init__(self, trace):\n",
    "        self.trace = trace\n",
    "    \n",
    "    def estimate(self):\n",
    "        n = len(self.trace)\n",
    "        total = 0\n",
    "        for round_ in self.trace:\n",
    "            user, action, old_p, new_p, r = round_\n",
    "            total += new_p / old_p * r\n",
    "        \n",
    "        return total/n"
   ]
  },
  {
   "cell_type": "code",
   "execution_count": 6,
   "metadata": {},
   "outputs": [],
   "source": [
    "# Implement IPS \n",
    "class IPS:\n",
    "    def __init__(self):\n",
    "        self.estimates = list()\n",
    "\n",
    "    def get_estimate(self, old_p, new_p, r):\n",
    "        \"\"\"\n",
    "        Append the IPS estimate of a single sample to self.estimates.\n",
    "        You should implement this function\n",
    "        \"\"\"\n",
    "        self.estimates.append(new_p/old_p*r)\n",
    "\n",
    "    def evaluation(self, num_samples):\n",
    "        \"\"\"\n",
    "        Get the mean of num_samples number of IPS estimates\n",
    "        \"\"\"\n",
    "        return np.mean(self.estimates[:num_samples])"
   ]
  },
  {
   "cell_type": "code",
   "execution_count": 7,
   "metadata": {},
   "outputs": [],
   "source": [
    "class StochasticPolicy:\n",
    "    def __init__(self, num_actions):\n",
    "        self.num_actions = num_actions\n",
    "\n",
    "    def choose_action(self, context):\n",
    "        '''\n",
    "        Always chooses the first ad\n",
    "        '''\n",
    "        return (0, [1] + [0] * (self.num_actions - 1))\n",
    "\n",
    "    def update(self, cb_sample):\n",
    "        pass"
   ]
  },
  {
   "cell_type": "code",
   "execution_count": 8,
   "metadata": {},
   "outputs": [],
   "source": [
    "class DeterministicPolicy:\n",
    "    def __init__(self, num_actions):\n",
    "        self.num_actions = num_actions\n",
    "\n",
    "    def choose_action(self, context):\n",
    "        '''\n",
    "        Always chooses from ratio of 1:2:1:2:1:2 ... \n",
    "        '''\n",
    "        p = np.ones(self.num_actions)\n",
    "        for i in range(self.num_actions):\n",
    "            if i % 2 == 1:\n",
    "                p[i] = 2\n",
    "        p = p/np.sum(p)\n",
    "        chosen_action = np.random.choice(self.num_actions, p=p)\n",
    "        \n",
    "        return chosen_action, p\n",
    "\n",
    "    def update(self, cb_sample):\n",
    "        pass"
   ]
  },
  {
   "cell_type": "code",
   "execution_count": 46,
   "metadata": {},
   "outputs": [],
   "source": [
    "def run_experiment(old_policy, new_policy):\n",
    "    epsilon = 0.1 # epsilon is a tunable parameter\n",
    "    data = list()\n",
    "\n",
    "    # Start the demo\n",
    "    num_samples = 1000000 # total number of samples. Feel free to change this if you want to\n",
    "    new_policy_true_rewards = list() # Keep track of true rewards revealed by the new policy\n",
    "\n",
    "    # Implement the demo as specified by the comments below\n",
    "    ips_estimator = IPS()\n",
    "\n",
    "    for sample_index in range(num_samples): \n",
    "        # Context (user) revealed\n",
    "        user = np.random.choice(num_users)\n",
    "\n",
    "        # The old policy chooses an action\n",
    "        old_chosen_action, old_probabilities = old_policy.choose_action(user)\n",
    "\n",
    "        # The reward of the action chosen by the old policy is revealed\n",
    "        reward = reward_table[user][old_chosen_action]\n",
    "\n",
    "        # The new policy chooses an action\n",
    "        new_chosen_action, new_probabilities = new_policy.choose_action(user)\n",
    "\n",
    "        # Record the reward revealed by the new policy to get the true performance of the new policy\n",
    "        new_policy_true_rewards.append(reward_table[user][new_chosen_action])\n",
    "\n",
    "        # Store the CB sample in trace for evaluation\n",
    "        ips_estimator.get_estimate(old_probabilities[old_chosen_action], new_probabilities[old_chosen_action],\n",
    "                                  reward)\n",
    "\n",
    "        # Update the old policy if needed\n",
    "        old_policy.update((user, old_chosen_action, reward))\n",
    "    \n",
    "    true_performance = np.mean(new_policy_true_rewards)\n",
    "    n_samples = np.array([10]*6)**range(1, 7)\n",
    "    ips_estimates = np.zeros((6, 20))\n",
    "    for i in range(20):\n",
    "        boot = np.random.choice(range(num_samples), num_samples)\n",
    "        boot_estimates = np.array(ips_estimator.estimates)[boot]\n",
    "        for j in range(6):\n",
    "            ips_estimates[j, i] = np.mean(boot_estimates[:n_samples[j]])\n",
    "    mean_err = np.mean(np.abs(true_performance - \n",
    "                        ips_estimates)/true_performance, axis=1)\n",
    "    std = np.std(np.abs(true_performance - ips_estimates)/true_performance, axis=1)\n",
    "        \n",
    "    plt.plot(n_samples, mean_err)\n",
    "    plt.errorbar(n_samples, mean_err, yerr = std)\n",
    "    plt.title('mean error')\n",
    "    plt.xscale('log')\n",
    "    plt.show()\n",
    "    "
   ]
  },
  {
   "cell_type": "code",
   "execution_count": 13,
   "metadata": {},
   "outputs": [],
   "source": [
    "uni_ran = UniformlyRandom(num_ads)\n",
    "eps_greedy = EpsilonGreedy(num_ads, num_users, epsilon=epsilon)\n",
    "sto = StochasticPolicy(num_ads)\n",
    "det = DeterministicPolicy(num_ads)"
   ]
  },
  {
   "cell_type": "markdown",
   "metadata": {},
   "source": [
    "Experiment 2"
   ]
  },
  {
   "cell_type": "code",
   "execution_count": 50,
   "metadata": {},
   "outputs": [
    {
     "data": {
      "image/png": "[encoded data removed]",
      "text/plain": [
       "<Figure size 432x288 with 1 Axes>"
      ]
     },
     "metadata": {
      "needs_background": "light"
     },
     "output_type": "display_data"
    }
   ],
   "source": [
    "run_experiment(uni_ran, sto)"
   ]
  },
  {
   "cell_type": "code",
   "execution_count": 47,
   "metadata": {},
   "outputs": [
    {
     "data": {
      "image/png": "[encoded data removed]",
      "text/plain": [
       "<Figure size 432x288 with 1 Axes>"
      ]
     },
     "metadata": {
      "needs_background": "light"
     },
     "output_type": "display_data"
    }
   ],
   "source": [
    "run_experiment(uni_ran, det)"
   ]
  },
  {
   "cell_type": "code",
   "execution_count": 48,
   "metadata": {},
   "outputs": [
    {
     "data": {
      "image/png": "[encoded data removed]",
      "text/plain": [
       "<Figure size 432x288 with 1 Axes>"
      ]
     },
     "metadata": {
      "needs_background": "light"
     },
     "output_type": "display_data"
    }
   ],
   "source": [
    "run_experiment(eps_greedy, sto)"
   ]
  },
  {
   "cell_type": "code",
   "execution_count": 49,
   "metadata": {},
   "outputs": [
    {
     "data": {
      "image/png": "[encoded data removed]",
      "text/plain": [
       "<Figure size 432x288 with 1 Axes>"
      ]
     },
     "metadata": {
      "needs_background": "light"
     },
     "output_type": "display_data"
    }
   ],
   "source": [
    "run_experiment(eps_greedy, det)"
   ]
  }
 ],
 "metadata": {
  "kernelspec": {
   "display_name": "Python 3",
   "language": "python",
   "name": "python3"
  },
  "language_info": {
   "codemirror_mode": {
    "name": "ipython",
    "version": 3
   },
   "file_extension": ".py",
   "mimetype": "text/x-python",
   "name": "python",
   "nbconvert_exporter": "python",
   "pygments_lexer": "ipython3",
   "version": "3.7.4"
  }
 },
 "nbformat": 4,
 "nbformat_minor": 2
}
